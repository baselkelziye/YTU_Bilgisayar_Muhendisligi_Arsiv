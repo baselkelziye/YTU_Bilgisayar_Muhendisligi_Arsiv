{
 "cells": [
  {
   "cell_type": "markdown",
   "metadata": {},
   "source": [
    "# Rapor: Proje 4 - LZW (Lempel Ziv Welch) Yöntemi ile Sıkıştırma\n",
    "Ad Soyad: Önder Görmez  \n",
    "Öğrenci No: 21501035"
   ]
  },
  {
   "cell_type": "code",
   "execution_count": 91,
   "metadata": {},
   "outputs": [],
   "source": [
    "# used to create a dataframe\n",
    "import pandas as pd\n",
    "import matplotlib.pyplot as plt\n",
    "import time\n",
    "import os\n",
    "\n",
    "# NOTE: My own modules\n",
    "import lzw_compressor\n",
    "import lzw_decompressor\n"
   ]
  },
  {
   "cell_type": "markdown",
   "metadata": {},
   "source": [
    "## Logging"
   ]
  },
  {
   "cell_type": "code",
   "execution_count": 92,
   "metadata": {},
   "outputs": [],
   "source": [
    "import logging\n",
    "import logging.config\n",
    "import yaml\n",
    "\n",
    "# Reload logging just needed for jupyter notebook for proper logging\n",
    "from importlib import reload\n",
    "reload(logging)\n",
    "\n",
    "ROOT_PATH = '/home/onder/Repos/BLM6106_Data_Compression/03-Project'\n",
    "LOGGER_CONFIG_PATH = ROOT_PATH + '/logger_config.yaml'\n",
    "\n",
    "# Logger Configurations Part\n",
    "# TODO: Make path relative to portability\n",
    "with open(LOGGER_CONFIG_PATH, 'r') as file:\n",
    "    config = yaml.safe_load(file.read())\n",
    "    logging.config.dictConfig(config)\n",
    "\n",
    "logger = logging.getLogger(__name__)\n"
   ]
  },
  {
   "cell_type": "markdown",
   "metadata": {},
   "source": [
    "# Sıkıştırma İşlemi Yapılacak Veri Seti\n",
    "\n",
    "* Başka bir çalışmada kullanılmış [the_happy_prince.txt](https://github.com/joeatwork/python-lzw/blob/master/tests/data/the_happy_prince.txt) [2] dosyası ile testler yapılmıştır.\n",
    "* [Random Text Generator](https://www.blindtextgenerator.com/lorem-ipsum) [9] sitesinden üretilen kelimeler kullanılarak aşağıda belirtilen dosyalar oluşturulmuştur.\n",
    "  * random_short.txt\n",
    "  * random_medium.txt\n",
    "  * random_long.txt\n"
   ]
  },
  {
   "cell_type": "code",
   "execution_count": 93,
   "metadata": {},
   "outputs": [],
   "source": [
    "# TEXT_FILE_PATH = ROOT_PATH + '/the_happy_prince.txt'\n",
    "# COMPRESSED_FILE_PATH = ROOT_PATH + '/the_happy_prince.lzw'\n",
    "\n",
    "# TEXT_FILE_PATH = ROOT_PATH + '/random_short.txt'\n",
    "# COMPRESSED_FILE_PATH = ROOT_PATH + '/random_short.lzw'\n",
    "\n",
    "TEXT_FILE_PATH = ROOT_PATH + '/random_medium.txt'\n",
    "COMPRESSED_FILE_PATH = ROOT_PATH + '/random_medium.lzw'\n",
    "\n",
    "# TEXT_FILE_PATH = ROOT_PATH + '/random_long.txt'\n",
    "# COMPRESSED_FILE_PATH = ROOT_PATH + '/random_long.lzw'\n"
   ]
  },
  {
   "cell_type": "code",
   "execution_count": 94,
   "metadata": {},
   "outputs": [
    {
     "name": "stdout",
     "output_type": "stream",
     "text": [
      "[INFO] [2024-01-08T10:47:20.001Z] 'random_medium.txt' file size is 1395552 bytes\n"
     ]
    },
    {
     "data": {
      "text/plain": [
       "1395552"
      ]
     },
     "execution_count": 94,
     "metadata": {},
     "output_type": "execute_result"
    }
   ],
   "source": [
    "def get_file_size(file_path):\n",
    "    file_stats = os.stat(file_path)\n",
    "    logger.info(\"'{0}' file size is {1} bytes\".format(os.path.basename(file_path), file_stats.st_size));\n",
    "\n",
    "    return file_stats.st_size\n",
    "\n",
    "get_file_size(TEXT_FILE_PATH)\n"
   ]
  },
  {
   "cell_type": "markdown",
   "metadata": {},
   "source": [
    "# LZW Compression Function"
   ]
  },
  {
   "cell_type": "code",
   "execution_count": 95,
   "metadata": {},
   "outputs": [],
   "source": [
    "def my_compressor_function(file_path, codebook_size):\n",
    "    start_time = time.time()\n",
    "\n",
    "    lzw_compressor.compress(file_path, codebook_size)\n",
    "    \n",
    "    end_time = time.time()\n",
    "    elapsed_time = end_time - start_time\n",
    "    elapsed_time_in_micro_sec = int(elapsed_time*1000000)\n",
    "    logger.info(\"Compression time in us: %d\" % elapsed_time_in_micro_sec)\n",
    "    print(\"Compression time in us: %d\" % elapsed_time_in_micro_sec)\n",
    "\n",
    "    compressed_file_path = COMPRESSED_FILE_PATH\n",
    "    return elapsed_time_in_micro_sec, compressed_file_path\n"
   ]
  },
  {
   "cell_type": "markdown",
   "metadata": {},
   "source": [
    "## Compression Ratio (CR) Calculation"
   ]
  },
  {
   "cell_type": "markdown",
   "metadata": {},
   "source": [
    "\\begin{equation}\n",
    "\\text{Compression Ratio (CR)} = \\frac{\\text{size of the output stream}} {\\text{size of the input stream}} \n",
    "\\end{equation}\n"
   ]
  },
  {
   "cell_type": "code",
   "execution_count": 96,
   "metadata": {},
   "outputs": [],
   "source": [
    "def calculate_compression_ratio(original_file_size, compressed_file_size):\n",
    "    return compressed_file_size/original_file_size\n"
   ]
  },
  {
   "cell_type": "markdown",
   "metadata": {},
   "source": [
    "## Compression Performance (CP) Calculation\n",
    "\n",
    "\\begin{equation}\n",
    "\\text{Compression Performance (CP)} = 100 * (1 - CR) \n",
    "\\end{equation}"
   ]
  },
  {
   "cell_type": "code",
   "execution_count": 97,
   "metadata": {},
   "outputs": [],
   "source": [
    "def calculate_compression_performance(original_file_size, compressed_file_size):\n",
    "    compression_ratio = calculate_compression_ratio(original_file_size, compressed_file_size)\n",
    "\n",
    "    return 100 * (1 - compression_ratio)\n"
   ]
  },
  {
   "cell_type": "markdown",
   "metadata": {},
   "source": [
    "# LZW Decompression Function"
   ]
  },
  {
   "cell_type": "code",
   "execution_count": 98,
   "metadata": {},
   "outputs": [],
   "source": [
    "def my_decompressor_function(file_path):\n",
    "    start_time = time.time()\n",
    "\n",
    "    lzw_decompressor.decompress(file_path)\n",
    "\n",
    "    end_time = time.time()\n",
    "    elapsed_time = end_time - start_time\n",
    "    elapsed_time_in_micro_sec = int(elapsed_time*1000000)\n",
    "    logger.info(\"Decompression time in us: %d\" % elapsed_time_in_micro_sec)\n",
    "    print(\"Decompression time in us: %d\" % elapsed_time_in_micro_sec)\n",
    "    return elapsed_time_in_micro_sec\n"
   ]
  },
  {
   "cell_type": "markdown",
   "metadata": {},
   "source": [
    "# Algorithm in Action"
   ]
  },
  {
   "cell_type": "code",
   "execution_count": 99,
   "metadata": {},
   "outputs": [
    {
     "name": "stdout",
     "output_type": "stream",
     "text": [
      "[INFO] [2024-01-08T10:47:20.054Z] Bit size: 10\n",
      "[INFO] [2024-01-08T10:47:20.055Z] Max codebook size: 1024\n",
      "[WARNING] [2024-01-08T10:47:20.214Z] Final codebook size: 1025\n",
      "[INFO] [2024-01-08T10:47:20.264Z] Compression time in us: 207779\n",
      "Compression time in us: 207779\n",
      "[INFO] [2024-01-08T10:47:20.264Z] 'random_medium.txt' file size is 1395552 bytes\n",
      "[INFO] [2024-01-08T10:47:20.264Z] 'random_medium.lzw' file size is 1039772 bytes\n",
      "[INFO] [2024-01-08T10:47:20.482Z] Decompression time in us: 217687\n",
      "Decompression time in us: 217687\n",
      "[INFO] [2024-01-08T10:47:20.483Z] Bit size: 11\n",
      "[INFO] [2024-01-08T10:47:20.483Z] Max codebook size: 2048\n",
      "[WARNING] [2024-01-08T10:47:20.590Z] Final codebook size: 2049\n",
      "[INFO] [2024-01-08T10:47:20.624Z] Compression time in us: 140393\n",
      "Compression time in us: 140393\n",
      "[INFO] [2024-01-08T10:47:20.625Z] 'random_medium.txt' file size is 1395552 bytes\n",
      "[INFO] [2024-01-08T10:47:20.625Z] 'random_medium.lzw' file size is 759888 bytes\n",
      "[INFO] [2024-01-08T10:47:20.797Z] Decompression time in us: 171502\n",
      "Decompression time in us: 171502\n",
      "[INFO] [2024-01-08T10:47:20.797Z] Bit size: 12\n",
      "[INFO] [2024-01-08T10:47:20.797Z] Max codebook size: 4096\n",
      "[WARNING] [2024-01-08T10:47:20.891Z] Final codebook size: 4097\n",
      "[INFO] [2024-01-08T10:47:20.917Z] Compression time in us: 119024\n",
      "Compression time in us: 119024\n",
      "[INFO] [2024-01-08T10:47:20.917Z] 'random_medium.txt' file size is 1395552 bytes\n",
      "[INFO] [2024-01-08T10:47:20.917Z] 'random_medium.lzw' file size is 566078 bytes\n",
      "[INFO] [2024-01-08T10:47:21.073Z] Decompression time in us: 155816\n",
      "Decompression time in us: 155816\n",
      "[INFO] [2024-01-08T10:47:21.074Z] Bit size: 13\n",
      "[INFO] [2024-01-08T10:47:21.074Z] Max codebook size: 8192\n",
      "[WARNING] [2024-01-08T10:47:21.170Z] Final codebook size: 8193\n",
      "[INFO] [2024-01-08T10:47:21.189Z] Compression time in us: 114664\n",
      "Compression time in us: 114664\n",
      "[INFO] [2024-01-08T10:47:21.190Z] 'random_medium.txt' file size is 1395552 bytes\n",
      "[INFO] [2024-01-08T10:47:21.190Z] 'random_medium.lzw' file size is 402460 bytes\n",
      "[INFO] [2024-01-08T10:47:21.306Z] Decompression time in us: 115898\n",
      "Decompression time in us: 115898\n",
      "[INFO] [2024-01-08T10:47:21.307Z] Bit size: 14\n",
      "[INFO] [2024-01-08T10:47:21.307Z] Max codebook size: 16384\n",
      "[WARNING] [2024-01-08T10:47:21.402Z] Final codebook size: 16385\n",
      "[INFO] [2024-01-08T10:47:21.415Z] Compression time in us: 108091\n",
      "Compression time in us: 108091\n",
      "[INFO] [2024-01-08T10:47:21.416Z] 'random_medium.txt' file size is 1395552 bytes\n",
      "[INFO] [2024-01-08T10:47:21.416Z] 'random_medium.lzw' file size is 263764 bytes\n",
      "[INFO] [2024-01-08T10:47:21.507Z] Decompression time in us: 90877\n",
      "Decompression time in us: 90877\n",
      "[INFO] [2024-01-08T10:47:21.508Z] Bit size: 15\n",
      "[INFO] [2024-01-08T10:47:21.508Z] Max codebook size: 32768\n",
      "[WARNING] [2024-01-08T10:47:21.613Z] Final codebook size: 32769\n",
      "[INFO] [2024-01-08T10:47:21.623Z] Compression time in us: 114738\n",
      "Compression time in us: 114738\n",
      "[INFO] [2024-01-08T10:47:21.623Z] 'random_medium.txt' file size is 1395552 bytes\n",
      "[INFO] [2024-01-08T10:47:21.623Z] 'random_medium.lzw' file size is 171450 bytes\n",
      "[INFO] [2024-01-08T10:47:21.699Z] Decompression time in us: 75210\n",
      "Decompression time in us: 75210\n",
      "[INFO] [2024-01-08T10:47:21.699Z] Bit size: 16\n",
      "[INFO] [2024-01-08T10:47:21.700Z] Max codebook size: 65536\n",
      "[WARNING] [2024-01-08T10:47:21.833Z] Final codebook size: 65537\n",
      "[INFO] [2024-01-08T10:47:21.842Z] Compression time in us: 141485\n",
      "Compression time in us: 141485\n",
      "[INFO] [2024-01-08T10:47:21.842Z] 'random_medium.txt' file size is 1395552 bytes\n",
      "[INFO] [2024-01-08T10:47:21.842Z] 'random_medium.lzw' file size is 138640 bytes\n",
      "[INFO] [2024-01-08T10:47:21.910Z] Decompression time in us: 67765\n",
      "Decompression time in us: 67765\n",
      "different_codebook_sizes: [1024, 2048, 4096, 8192, 16384, 32768, 65536]\n"
     ]
    }
   ],
   "source": [
    "START_BIT_SIZE = 10\n",
    "END_BIT_SIZE = 16\n",
    "\n",
    "different_codebook_sizes = []\n",
    "original_file_size_array = []\n",
    "compressed_file_size_array = []\n",
    "compression_ratio_array = []\n",
    "compression_performance_array = []\n",
    "compression_time_array = []\n",
    "decompression_time_array = []\n",
    "for bit_size in range(START_BIT_SIZE, END_BIT_SIZE+1):\n",
    "\n",
    "    logger.info(f\"Bit size: {bit_size}\")\n",
    "    \n",
    "    codebook_size = 2**bit_size\n",
    "    different_codebook_sizes.append(codebook_size)\n",
    "    logger.info(f\"Max codebook size: {codebook_size}\")\n",
    "\n",
    "    elapsed_time_in_micro_sec, compressed_file_path = my_compressor_function(TEXT_FILE_PATH, codebook_size)\n",
    "    compression_time_array.append(elapsed_time_in_micro_sec)\n",
    "\n",
    "    original_file_size = get_file_size(TEXT_FILE_PATH)\n",
    "    original_file_size_array.append(original_file_size)\n",
    "\n",
    "    compressed_file_size = get_file_size(COMPRESSED_FILE_PATH)\n",
    "    compressed_file_size_array.append(compressed_file_size)\n",
    "    \n",
    "    compression_ratio = calculate_compression_ratio(original_file_size, compressed_file_size)\n",
    "    compression_ratio_array.append(compression_ratio)\n",
    "\n",
    "    compression_performance = calculate_compression_performance(original_file_size, compressed_file_size)\n",
    "    compression_performance_array.append(compression_performance)\n",
    "\n",
    "    elapsed_time_in_micro_sec = my_decompressor_function(COMPRESSED_FILE_PATH)\n",
    "    decompression_time_array.append(elapsed_time_in_micro_sec)\n",
    "\n",
    "print(f\"different_codebook_sizes: {different_codebook_sizes}\")\n"
   ]
  },
  {
   "cell_type": "markdown",
   "metadata": {},
   "source": [
    "# Deneyler ve Sonuçlar"
   ]
  },
  {
   "cell_type": "code",
   "execution_count": 100,
   "metadata": {},
   "outputs": [],
   "source": [
    "performance_metrics = ['Original File Size (bytes)', 'Compressed File Size (bytes)', 'Compression Ratio',\n",
    "                       'Compression Performance', 'Compression Time (us)', 'Decompression Time (us)']\n",
    "\n",
    "results_matrix_df = pd.DataFrame(columns=performance_metrics, index=different_codebook_sizes)\n",
    "\n",
    "results_matrix_df['Original File Size (bytes)'] = original_file_size_array\n",
    "results_matrix_df['Compressed File Size (bytes)'] = compressed_file_size_array\n",
    "results_matrix_df['Compression Ratio'] = compression_ratio_array\n",
    "results_matrix_df['Compression Performance'] = compression_performance_array\n",
    "results_matrix_df['Compression Performance'] = results_matrix_df['Compression Performance'].astype(str) + '%'\n",
    "results_matrix_df['Compression Time (us)'] = compression_time_array\n",
    "results_matrix_df['Decompression Time (us)'] = decompression_time_array\n"
   ]
  },
  {
   "cell_type": "code",
   "execution_count": 101,
   "metadata": {},
   "outputs": [],
   "source": [
    "col = ['Time (us)', 'Time (ms)', 'Time (sec)']\n",
    "index = ['Compression', 'Decompression']\n",
    "total_compression_and_decompression_time_df = pd.DataFrame(columns=col, index=index)\n",
    "\n",
    "total_time_in_us_array = []\n",
    "total_time_in_us_array.append(results_matrix_df['Compression Time (us)'].sum())\n",
    "total_time_in_us_array.append(results_matrix_df['Decompression Time (us)'].sum())\n",
    "\n",
    "total_time_in_ms_array = []\n",
    "total_time_in_ms_array.append(results_matrix_df['Compression Time (us)'].sum()/1000)\n",
    "total_time_in_ms_array.append(results_matrix_df['Decompression Time (us)'].sum()/1000)\n",
    "\n",
    "total_time_in_sec_array = []\n",
    "total_time_in_sec_array.append(results_matrix_df['Compression Time (us)'].sum()/1000000)\n",
    "total_time_in_sec_array.append(results_matrix_df['Decompression Time (us)'].sum()/1000000)\n",
    "\n",
    "total_compression_and_decompression_time_df['Time (us)'] = total_time_in_us_array\n",
    "total_compression_and_decompression_time_df['Time (ms)'] = total_time_in_ms_array\n",
    "total_compression_and_decompression_time_df['Time (sec)'] = total_time_in_sec_array\n"
   ]
  },
  {
   "cell_type": "markdown",
   "metadata": {},
   "source": [
    "* Decompression işlemi daha uzun sürüyor."
   ]
  },
  {
   "cell_type": "code",
   "execution_count": 102,
   "metadata": {},
   "outputs": [
    {
     "data": {
      "text/html": [
       "<div>\n",
       "<style scoped>\n",
       "    .dataframe tbody tr th:only-of-type {\n",
       "        vertical-align: middle;\n",
       "    }\n",
       "\n",
       "    .dataframe tbody tr th {\n",
       "        vertical-align: top;\n",
       "    }\n",
       "\n",
       "    .dataframe thead th {\n",
       "        text-align: right;\n",
       "    }\n",
       "</style>\n",
       "<table border=\"1\" class=\"dataframe\">\n",
       "  <thead>\n",
       "    <tr style=\"text-align: right;\">\n",
       "      <th></th>\n",
       "      <th>Time (us)</th>\n",
       "      <th>Time (ms)</th>\n",
       "      <th>Time (sec)</th>\n",
       "    </tr>\n",
       "  </thead>\n",
       "  <tbody>\n",
       "    <tr>\n",
       "      <th>Compression</th>\n",
       "      <td>946174</td>\n",
       "      <td>946.174</td>\n",
       "      <td>0.946174</td>\n",
       "    </tr>\n",
       "    <tr>\n",
       "      <th>Decompression</th>\n",
       "      <td>894755</td>\n",
       "      <td>894.755</td>\n",
       "      <td>0.894755</td>\n",
       "    </tr>\n",
       "  </tbody>\n",
       "</table>\n",
       "</div>"
      ],
      "text/plain": [
       "               Time (us)  Time (ms)  Time (sec)\n",
       "Compression       946174    946.174    0.946174\n",
       "Decompression     894755    894.755    0.894755"
      ]
     },
     "execution_count": 102,
     "metadata": {},
     "output_type": "execute_result"
    }
   ],
   "source": [
    "total_compression_and_decompression_time_df\n"
   ]
  },
  {
   "cell_type": "markdown",
   "metadata": {},
   "source": [
    "* **Codebook çok küçük** olduğu zaman compression performance düşük çıkıyor.\n",
    "* **Codebook** boyutu **belirli bir nokta**dan sonra sonucu **etkilemiyor**.\n",
    "* Aynı veri üzerinde codebook artarsa;\n",
    "  * compression ve decompression time azalıyor.\n",
    "  * Tekrar eden pattern lerin sayısı **codebook boyutuna sığdıktan** sonra codebook size arttıkça sonuç etkilenmiyor."
   ]
  },
  {
   "cell_type": "code",
   "execution_count": 103,
   "metadata": {},
   "outputs": [
    {
     "data": {
      "text/html": [
       "<div>\n",
       "<style scoped>\n",
       "    .dataframe tbody tr th:only-of-type {\n",
       "        vertical-align: middle;\n",
       "    }\n",
       "\n",
       "    .dataframe tbody tr th {\n",
       "        vertical-align: top;\n",
       "    }\n",
       "\n",
       "    .dataframe thead th {\n",
       "        text-align: right;\n",
       "    }\n",
       "</style>\n",
       "<table border=\"1\" class=\"dataframe\">\n",
       "  <thead>\n",
       "    <tr style=\"text-align: right;\">\n",
       "      <th></th>\n",
       "      <th>Original File Size (bytes)</th>\n",
       "      <th>Compressed File Size (bytes)</th>\n",
       "      <th>Compression Ratio</th>\n",
       "      <th>Compression Performance</th>\n",
       "      <th>Compression Time (us)</th>\n",
       "      <th>Decompression Time (us)</th>\n",
       "    </tr>\n",
       "  </thead>\n",
       "  <tbody>\n",
       "    <tr>\n",
       "      <th>1024</th>\n",
       "      <td>1395552</td>\n",
       "      <td>1039772</td>\n",
       "      <td>0.745061</td>\n",
       "      <td>25.493854761413402%</td>\n",
       "      <td>207779</td>\n",
       "      <td>217687</td>\n",
       "    </tr>\n",
       "    <tr>\n",
       "      <th>2048</th>\n",
       "      <td>1395552</td>\n",
       "      <td>759888</td>\n",
       "      <td>0.544507</td>\n",
       "      <td>45.549288023663756%</td>\n",
       "      <td>140393</td>\n",
       "      <td>171502</td>\n",
       "    </tr>\n",
       "    <tr>\n",
       "      <th>4096</th>\n",
       "      <td>1395552</td>\n",
       "      <td>566078</td>\n",
       "      <td>0.405630</td>\n",
       "      <td>59.43698264199399%</td>\n",
       "      <td>119024</td>\n",
       "      <td>155816</td>\n",
       "    </tr>\n",
       "    <tr>\n",
       "      <th>8192</th>\n",
       "      <td>1395552</td>\n",
       "      <td>402460</td>\n",
       "      <td>0.288388</td>\n",
       "      <td>71.16123225791657%</td>\n",
       "      <td>114664</td>\n",
       "      <td>115898</td>\n",
       "    </tr>\n",
       "    <tr>\n",
       "      <th>16384</th>\n",
       "      <td>1395552</td>\n",
       "      <td>263764</td>\n",
       "      <td>0.189003</td>\n",
       "      <td>81.099665222077%</td>\n",
       "      <td>108091</td>\n",
       "      <td>90877</td>\n",
       "    </tr>\n",
       "    <tr>\n",
       "      <th>32768</th>\n",
       "      <td>1395552</td>\n",
       "      <td>171450</td>\n",
       "      <td>0.122855</td>\n",
       "      <td>87.71453876315609%</td>\n",
       "      <td>114738</td>\n",
       "      <td>75210</td>\n",
       "    </tr>\n",
       "    <tr>\n",
       "      <th>65536</th>\n",
       "      <td>1395552</td>\n",
       "      <td>138640</td>\n",
       "      <td>0.099344</td>\n",
       "      <td>90.06557978491665%</td>\n",
       "      <td>141485</td>\n",
       "      <td>67765</td>\n",
       "    </tr>\n",
       "  </tbody>\n",
       "</table>\n",
       "</div>"
      ],
      "text/plain": [
       "       Original File Size (bytes)  Compressed File Size (bytes)  \\\n",
       "1024                      1395552                       1039772   \n",
       "2048                      1395552                        759888   \n",
       "4096                      1395552                        566078   \n",
       "8192                      1395552                        402460   \n",
       "16384                     1395552                        263764   \n",
       "32768                     1395552                        171450   \n",
       "65536                     1395552                        138640   \n",
       "\n",
       "       Compression Ratio Compression Performance  Compression Time (us)  \\\n",
       "1024            0.745061     25.493854761413402%                 207779   \n",
       "2048            0.544507     45.549288023663756%                 140393   \n",
       "4096            0.405630      59.43698264199399%                 119024   \n",
       "8192            0.288388      71.16123225791657%                 114664   \n",
       "16384           0.189003        81.099665222077%                 108091   \n",
       "32768           0.122855      87.71453876315609%                 114738   \n",
       "65536           0.099344      90.06557978491665%                 141485   \n",
       "\n",
       "       Decompression Time (us)  \n",
       "1024                    217687  \n",
       "2048                    171502  \n",
       "4096                    155816  \n",
       "8192                    115898  \n",
       "16384                    90877  \n",
       "32768                    75210  \n",
       "65536                    67765  "
      ]
     },
     "execution_count": 103,
     "metadata": {},
     "output_type": "execute_result"
    }
   ],
   "source": [
    "results_matrix_df\n"
   ]
  },
  {
   "cell_type": "markdown",
   "metadata": {},
   "source": [
    "### Grafikler\n",
    "Yukarıdaki tabloda elde edilen veriler ile aşağıdaki grafikler çizdirilmiştir.\n",
    "* Codebook Size - Compression Performance (%)\n",
    "* Codebook Size - Compression Time (us)\n",
    "* Codebook Size - Decompression Time (us)\n"
   ]
  },
  {
   "cell_type": "markdown",
   "metadata": {},
   "source": [
    "### Compression Performance Graph\n",
    "\n",
    "Grafiğe bakılırsa;\n",
    "* Exponansiyel bir bağıntı\n",
    "* Codebook size ın çok küçük değerlerinde performan düşük çıkmaktadır.\n",
    "* %80 performansa ulaşması için codebook size ın (10000 - 20000 arası) çok büyük olmasına gerek yok."
   ]
  },
  {
   "cell_type": "code",
   "execution_count": 104,
   "metadata": {},
   "outputs": [
    {
     "data": {
      "image/png": "[encoded data removed]",
      "text/plain": [
       "<Figure size 640x480 with 1 Axes>"
      ]
     },
     "metadata": {},
     "output_type": "display_data"
    }
   ],
   "source": [
    "plt.plot(different_codebook_sizes, compression_performance_array) \n",
    "plt.xlabel('Codebook Size')\n",
    "plt.ylabel('Compression Performance (%)')\n",
    "\n",
    "plt.grid(True)\n",
    "plt.show()\n"
   ]
  },
  {
   "cell_type": "markdown",
   "metadata": {},
   "source": [
    "### Compression & Decompression Time Graph\n",
    "\n",
    "Grafiğe bakılırsa;\n",
    "* **Codebook size çok küçük** iken compression ve decompression **time yüksek** çıkmaktadır. "
   ]
  },
  {
   "cell_type": "code",
   "execution_count": 105,
   "metadata": {},
   "outputs": [
    {
     "data": {
      "image/png": "[encoded data removed]",
      "text/plain": [
       "<Figure size 2000x1000 with 2 Axes>"
      ]
     },
     "metadata": {},
     "output_type": "display_data"
    }
   ],
   "source": [
    "figure, axis = plt.subplots(1, 2, figsize=(20, 10)) \n",
    "  \n",
    "axis[0].plot(different_codebook_sizes, compression_time_array) \n",
    "axis[0].set_xlabel(\"Codebook Size\")\n",
    "axis[0].set_ylabel(\"Compression Time (us)\")\n",
    "axis[0].grid(True)\n",
    "  \n",
    "axis[1].plot(different_codebook_sizes, decompression_time_array) \n",
    "axis[1].set_xlabel(\"Codebook Size\")\n",
    "axis[1].set_ylabel(\"Decompression Time (us)\")\n",
    "axis[1].grid(True)\n",
    "\n",
    "\n",
    "plt.grid(True)\n",
    "plt.show()\n"
   ]
  },
  {
   "cell_type": "markdown",
   "metadata": {},
   "source": [
    "# Kısıtlamalar\n",
    "* Çalışma sadece metin üzerinde denenmiştir.\n",
    "* Diğer dosya formatları için çalışma yapılmamıştır."
   ]
  },
  {
   "cell_type": "markdown",
   "metadata": {},
   "source": [
    "# Referanslar\n",
    "\n",
    "* [1] [A Technique for High-Performance Data Compression](https://courses.cs.duke.edu/spring03/cps296.5/papers/welch_1984_technique_for.pdf) - Bu yöntemin ilk yanınlandığı makaledir.\n",
    "* [2] [the_happy_prince.txt](https://github.com/joeatwork/python-lzw/blob/master/tests/data/the_happy_prince.txt)\n",
    "* [3] [Aditya Gupta --> LZW-Compressor-in-Python](https://github.com/adityagupta3006/LZW-Compressor-in-Python)\n",
    "* [4] [Python Sleep Milliseconds with Examples](https://sparkbyexamples.com/python/python-sleep-milliseconds/)\n",
    "* [5] [Measure elapsed time in Python](https://pythonhow.com/how/measure-elapsed-time-in-python)\n",
    "* [6] [How to Generate Random Numbers in Python?](https://www.shiksha.com/online-courses/articles/how-to-generate-random-numbers-in-python/)\n",
    "* [7] [Plot multiple plots in Matplotlib](https://www.geeksforgeeks.org/plot-multiple-plots-in-matplotlib/)\n",
    "* [8] [How to Get File Size in Python](https://www.digitalocean.com/community/tutorials/how-to-get-file-size-in-python)\n",
    "* [9] [Random Text Generator](https://www.blindtextgenerator.com/lorem-ipsum)"
   ]
  }
 ],
 "metadata": {
  "kernelspec": {
   "display_name": "Python 3",
   "language": "python",
   "name": "python3"
  },
  "language_info": {
   "codemirror_mode": {
    "name": "ipython",
    "version": 3
   },
   "file_extension": ".py",
   "mimetype": "text/x-python",
   "name": "python",
   "nbconvert_exporter": "python",
   "pygments_lexer": "ipython3",
   "version": "3.10.12"
  }
 },
 "nbformat": 4,
 "nbformat_minor": 2
}
