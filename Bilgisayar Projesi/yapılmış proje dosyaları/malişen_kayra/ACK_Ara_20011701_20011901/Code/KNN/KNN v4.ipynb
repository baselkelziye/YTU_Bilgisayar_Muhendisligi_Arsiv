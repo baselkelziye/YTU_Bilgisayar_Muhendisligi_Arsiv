{
 "cells": [
  {
   "cell_type": "code",
   "execution_count": 32,
   "id": "805287ad",
   "metadata": {},
   "outputs": [],
   "source": [
    "import numpy as np\n",
    "import pandas as pd\n",
    "import matplotlib.pyplot as plt\n",
    "import seaborn as sns"
   ]
  },
  {
   "cell_type": "code",
   "execution_count": 33,
   "id": "66d1b892",
   "metadata": {},
   "outputs": [
    {
     "data": {
      "text/html": [
       "<div>\n",
       "<style scoped>\n",
       "    .dataframe tbody tr th:only-of-type {\n",
       "        vertical-align: middle;\n",
       "    }\n",
       "\n",
       "    .dataframe tbody tr th {\n",
       "        vertical-align: top;\n",
       "    }\n",
       "\n",
       "    .dataframe thead th {\n",
       "        text-align: right;\n",
       "    }\n",
       "</style>\n",
       "<table border=\"1\" class=\"dataframe\">\n",
       "  <thead>\n",
       "    <tr style=\"text-align: right;\">\n",
       "      <th></th>\n",
       "      <th>Tweet</th>\n",
       "      <th>Label</th>\n",
       "    </tr>\n",
       "  </thead>\n",
       "  <tbody>\n",
       "    <tr>\n",
       "      <th>0</th>\n",
       "      <td>A little throwback with my favourite person @ ...</td>\n",
       "      <td>0</td>\n",
       "    </tr>\n",
       "    <tr>\n",
       "      <th>1</th>\n",
       "      <td>glam on @user yesterday for #kcon makeup using...</td>\n",
       "      <td>7</td>\n",
       "    </tr>\n",
       "    <tr>\n",
       "      <th>2</th>\n",
       "      <td>Democracy Plaza in the wake of a stunning outc...</td>\n",
       "      <td>11</td>\n",
       "    </tr>\n",
       "    <tr>\n",
       "      <th>3</th>\n",
       "      <td>Then &amp;amp; Now. VILO @ Walt Disney Magic Kingdom</td>\n",
       "      <td>0</td>\n",
       "    </tr>\n",
       "    <tr>\n",
       "      <th>4</th>\n",
       "      <td>Who never... @ A Galaxy Far Far Away</td>\n",
       "      <td>2</td>\n",
       "    </tr>\n",
       "  </tbody>\n",
       "</table>\n",
       "</div>"
      ],
      "text/plain": [
       "                                               Tweet  Label\n",
       "0  A little throwback with my favourite person @ ...      0\n",
       "1  glam on @user yesterday for #kcon makeup using...      7\n",
       "2  Democracy Plaza in the wake of a stunning outc...     11\n",
       "3   Then &amp; Now. VILO @ Walt Disney Magic Kingdom      0\n",
       "4               Who never... @ A Galaxy Far Far Away      2"
      ]
     },
     "execution_count": 33,
     "metadata": {},
     "output_type": "execute_result"
    }
   ],
   "source": [
    "df = pd.read_csv(\"data/emoji_uncleaned.csv\")\n",
    "df.head(5)"
   ]
  },
  {
   "cell_type": "code",
   "execution_count": 34,
   "id": "fcdbccf9",
   "metadata": {},
   "outputs": [
    {
     "name": "stdout",
     "output_type": "stream",
     "text": [
      "Sample Raw :  Democracy Plaza in the wake of a stunning outcome #Decision2016 @ NBC News\n"
     ]
    }
   ],
   "source": [
    "print(\"Sample Raw : \", df['Tweet'][2])"
   ]
  },
  {
   "cell_type": "code",
   "execution_count": 35,
   "id": "136c4e95",
   "metadata": {},
   "outputs": [],
   "source": [
    "import string\n",
    "import re\n",
    "\n",
    "def tweet_clean(tweet):\n",
    "    tweet = str(tweet).lower()\n",
    "    rm_mention = re.sub(r'@[A-Za-z0-9]+', '', tweet)                       # remove @mentions\n",
    "    rm_rt = re.sub(r'RT[/s]+', '', rm_mention)                             # remove RT\n",
    "    rm_links = re.sub(r'http\\S+', '', rm_rt)                               # remove hyperlinks\n",
    "    rm_links = re.sub(r'https?:\\/\\/\\S+','', rm_links)\n",
    "    rm_nums = re.sub('[0-9]+', '', rm_links)                               # remove numbers\n",
    "    rm_punc = [char for char in rm_nums if char not in string.punctuation] # remove punctuations\n",
    "    rm_punc = ''.join(rm_punc)\n",
    "    cleaned = rm_punc\n",
    "    \n",
    "    return cleaned"
   ]
  },
  {
   "cell_type": "code",
   "execution_count": 42,
   "id": "3f19918e",
   "metadata": {},
   "outputs": [
    {
     "name": "stdout",
     "output_type": "stream",
     "text": [
      "Cleaned :  democracy plaza in the wake of a stunning outcome decision  nbc news\n"
     ]
    }
   ],
   "source": [
    "tweet = df['Tweet'][2]\n",
    "cleaned = tweet_clean(tweet)\n",
    "\n",
    "print(\"Cleaned : \",cleaned)"
   ]
  },
  {
   "cell_type": "code",
   "execution_count": 43,
   "id": "3dd61974",
   "metadata": {},
   "outputs": [
    {
     "data": {
      "text/html": [
       "<div>\n",
       "<style scoped>\n",
       "    .dataframe tbody tr th:only-of-type {\n",
       "        vertical-align: middle;\n",
       "    }\n",
       "\n",
       "    .dataframe tbody tr th {\n",
       "        vertical-align: top;\n",
       "    }\n",
       "\n",
       "    .dataframe thead th {\n",
       "        text-align: right;\n",
       "    }\n",
       "</style>\n",
       "<table border=\"1\" class=\"dataframe\">\n",
       "  <thead>\n",
       "    <tr style=\"text-align: right;\">\n",
       "      <th></th>\n",
       "      <th>Tweet</th>\n",
       "      <th>Label</th>\n",
       "    </tr>\n",
       "  </thead>\n",
       "  <tbody>\n",
       "    <tr>\n",
       "      <th>0</th>\n",
       "      <td>a little throwback with my favourite person  w...</td>\n",
       "      <td>0</td>\n",
       "    </tr>\n",
       "    <tr>\n",
       "      <th>1</th>\n",
       "      <td>glam on  yesterday for kcon makeup using  in f...</td>\n",
       "      <td>7</td>\n",
       "    </tr>\n",
       "    <tr>\n",
       "      <th>2</th>\n",
       "      <td>democracy plaza in the wake of a stunning outc...</td>\n",
       "      <td>11</td>\n",
       "    </tr>\n",
       "    <tr>\n",
       "      <th>3</th>\n",
       "      <td>then amp now vilo  walt disney magic kingdom</td>\n",
       "      <td>0</td>\n",
       "    </tr>\n",
       "    <tr>\n",
       "      <th>4</th>\n",
       "      <td>who never  a galaxy far far away</td>\n",
       "      <td>2</td>\n",
       "    </tr>\n",
       "  </tbody>\n",
       "</table>\n",
       "</div>"
      ],
      "text/plain": [
       "                                               Tweet  Label\n",
       "0  a little throwback with my favourite person  w...      0\n",
       "1  glam on  yesterday for kcon makeup using  in f...      7\n",
       "2  democracy plaza in the wake of a stunning outc...     11\n",
       "3       then amp now vilo  walt disney magic kingdom      0\n",
       "4                   who never  a galaxy far far away      2"
      ]
     },
     "execution_count": 43,
     "metadata": {},
     "output_type": "execute_result"
    }
   ],
   "source": [
    "df[\"Tweet\"] = df[\"Tweet\"].apply(tweet_clean)\n",
    "df.head(5)"
   ]
  },
  {
   "cell_type": "code",
   "execution_count": 44,
   "id": "f6717e1f",
   "metadata": {},
   "outputs": [],
   "source": [
    "import nltk\n",
    "import spacy\n",
    "from nltk.stem import WordNetLemmatizer\n",
    "\n",
    "nlp = spacy.load(\"en_core_web_sm\")\n",
    "lemmatizer = WordNetLemmatizer()\n",
    "\n",
    "def tweet_preprocessing(tweet, nlp=nlp, lemmatizer=lemmatizer):\n",
    "    \n",
    "    stop_words = nlp.Defaults.stop_words     \n",
    "    rm_stop_words_lemma = []\n",
    "    \n",
    "    doc = nlp(tweet)\n",
    "    for token in doc:                                            # tokenization\n",
    "        if token.text not in stop_words and token.pos_!=\"PUNCT\": \n",
    "            lemma_word = lemmatizer.lemmatize(token.text)        # removing stop\n",
    "            rm_stop_words_lemma.append(lemma_word)               # lemmatizing words \n",
    "            \n",
    "    processed = \" \".join(rm_stop_words_lemma)\n",
    "    return processed"
   ]
  },
  {
   "cell_type": "code",
   "execution_count": 45,
   "id": "ed2482f5",
   "metadata": {},
   "outputs": [
    {
     "name": "stdout",
     "output_type": "stream",
     "text": [
      "(50000, 2)\n",
      "Sample    :  democracy plaza in the wake of a stunning outcome decision  nbc news\n",
      "Processed :  democracy plaza wake stunning outcome decision   nbc news\n"
     ]
    }
   ],
   "source": [
    "tweet = df['Tweet'][2]\n",
    "cleaned = tweet_clean(tweet)\n",
    "print(df.shape)\n",
    "\n",
    "print(\"Sample    : \",cleaned)\n",
    "print(\"Processed : \",tweet_preprocessing(cleaned))"
   ]
  },
  {
   "cell_type": "code",
   "execution_count": 46,
   "id": "49da59c5",
   "metadata": {},
   "outputs": [
    {
     "name": "stdout",
     "output_type": "stream",
     "text": [
      "(50000, 2)\n"
     ]
    }
   ],
   "source": [
    "df.dropna(inplace=True)\n",
    "print(df.shape)"
   ]
  },
  {
   "cell_type": "code",
   "execution_count": 47,
   "id": "122b22cf",
   "metadata": {},
   "outputs": [
    {
     "name": "stdout",
     "output_type": "stream",
     "text": [
      "(50000, 2)\n"
     ]
    }
   ],
   "source": [
    "df[\"Tweet\"] = df[\"Tweet\"].apply(tweet_preprocessing)\n",
    "df.head(10)\n",
    "print(df.shape)"
   ]
  },
  {
   "cell_type": "code",
   "execution_count": 48,
   "id": "1ec5422b",
   "metadata": {},
   "outputs": [
    {
     "name": "stdout",
     "output_type": "stream",
     "text": [
      "(50000, 2)\n"
     ]
    }
   ],
   "source": [
    "df.dropna(inplace=True)\n",
    "print(df.shape)"
   ]
  },
  {
   "cell_type": "code",
   "execution_count": 49,
   "id": "e8516ce1",
   "metadata": {},
   "outputs": [],
   "source": [
    "############################### CLEAN DATA READ ################################"
   ]
  },
  {
   "cell_type": "code",
   "execution_count": 141,
   "id": "bdbff529",
   "metadata": {},
   "outputs": [],
   "source": [
    "df = pd.read_csv(\"data/stp_lm.csv\")"
   ]
  },
  {
   "cell_type": "code",
   "execution_count": 142,
   "id": "02b12a1a",
   "metadata": {},
   "outputs": [
    {
     "data": {
      "text/html": [
       "<div>\n",
       "<style scoped>\n",
       "    .dataframe tbody tr th:only-of-type {\n",
       "        vertical-align: middle;\n",
       "    }\n",
       "\n",
       "    .dataframe tbody tr th {\n",
       "        vertical-align: top;\n",
       "    }\n",
       "\n",
       "    .dataframe thead th {\n",
       "        text-align: right;\n",
       "    }\n",
       "</style>\n",
       "<table border=\"1\" class=\"dataframe\">\n",
       "  <thead>\n",
       "    <tr style=\"text-align: right;\">\n",
       "      <th></th>\n",
       "      <th>Tweet</th>\n",
       "      <th>Label</th>\n",
       "    </tr>\n",
       "  </thead>\n",
       "  <tbody>\n",
       "    <tr>\n",
       "      <th>0</th>\n",
       "      <td>little throwback favourite person   water wall</td>\n",
       "      <td>0</td>\n",
       "    </tr>\n",
       "    <tr>\n",
       "      <th>1</th>\n",
       "      <td>glam   yesterday kcon makeup   featherette</td>\n",
       "      <td>7</td>\n",
       "    </tr>\n",
       "    <tr>\n",
       "      <th>2</th>\n",
       "      <td>democracy plaza wake stunning outcome decision...</td>\n",
       "      <td>11</td>\n",
       "    </tr>\n",
       "    <tr>\n",
       "      <th>3</th>\n",
       "      <td>amp vilo   walt disney magic kingdom</td>\n",
       "      <td>0</td>\n",
       "    </tr>\n",
       "    <tr>\n",
       "      <th>4</th>\n",
       "      <td>galaxy far far away</td>\n",
       "      <td>2</td>\n",
       "    </tr>\n",
       "    <tr>\n",
       "      <th>...</th>\n",
       "      <td>...</td>\n",
       "      <td>...</td>\n",
       "    </tr>\n",
       "    <tr>\n",
       "      <th>49995</th>\n",
       "      <td>ootd love chain new ring putaringonit odesigne...</td>\n",
       "      <td>1</td>\n",
       "    </tr>\n",
       "    <tr>\n",
       "      <th>49996</th>\n",
       "      <td>met santa olaf   north pole today   north pole...</td>\n",
       "      <td>0</td>\n",
       "    </tr>\n",
       "    <tr>\n",
       "      <th>49997</th>\n",
       "      <td>new york night strideby herelocationnyc seemyc...</td>\n",
       "      <td>11</td>\n",
       "    </tr>\n",
       "    <tr>\n",
       "      <th>49998</th>\n",
       "      <td>kiss birthday girl   helzberg diamond</td>\n",
       "      <td>0</td>\n",
       "    </tr>\n",
       "    <tr>\n",
       "      <th>49999</th>\n",
       "      <td>dinner priceless viewthank s anniversarydinner...</td>\n",
       "      <td>9</td>\n",
       "    </tr>\n",
       "  </tbody>\n",
       "</table>\n",
       "<p>49985 rows × 2 columns</p>\n",
       "</div>"
      ],
      "text/plain": [
       "                                                   Tweet  Label\n",
       "0         little throwback favourite person   water wall      0\n",
       "1             glam   yesterday kcon makeup   featherette      7\n",
       "2      democracy plaza wake stunning outcome decision...     11\n",
       "3                   amp vilo   walt disney magic kingdom      0\n",
       "4                                    galaxy far far away      2\n",
       "...                                                  ...    ...\n",
       "49995  ootd love chain new ring putaringonit odesigne...      1\n",
       "49996  met santa olaf   north pole today   north pole...      0\n",
       "49997  new york night strideby herelocationnyc seemyc...     11\n",
       "49998              kiss birthday girl   helzberg diamond      0\n",
       "49999  dinner priceless viewthank s anniversarydinner...      9\n",
       "\n",
       "[49985 rows x 2 columns]"
      ]
     },
     "execution_count": 142,
     "metadata": {},
     "output_type": "execute_result"
    }
   ],
   "source": [
    "df.dropna(inplace=True)\n",
    "df"
   ]
  },
  {
   "cell_type": "code",
   "execution_count": 143,
   "id": "ac826ce3",
   "metadata": {},
   "outputs": [],
   "source": [
    "############################### COUNT VECTOR ################################"
   ]
  },
  {
   "cell_type": "code",
   "execution_count": 144,
   "id": "eebe18af",
   "metadata": {},
   "outputs": [
    {
     "data": {
      "text/plain": [
       "array(['abstracted', 'abstractnola', 'abswhereareyou', 'abt',\n",
       "       'abtofficial', 'abtswanlake', 'abuela', 'abuelita', 'abuelito',\n",
       "       'abuelos'], dtype=object)"
      ]
     },
     "execution_count": 144,
     "metadata": {},
     "output_type": "execute_result"
    }
   ],
   "source": [
    "from sklearn.feature_extraction.text import CountVectorizer\n",
    "\n",
    "c_vect = CountVectorizer()\n",
    "X = c_vect.fit_transform(df[\"Tweet\"])\n",
    "c_vect.get_feature_names_out()[110:120]"
   ]
  },
  {
   "cell_type": "code",
   "execution_count": 145,
   "id": "6d2978c6",
   "metadata": {},
   "outputs": [
    {
     "data": {
      "text/plain": [
       "(49985, 54353)"
      ]
     },
     "execution_count": 145,
     "metadata": {},
     "output_type": "execute_result"
    }
   ],
   "source": [
    "X.shape"
   ]
  },
  {
   "cell_type": "code",
   "execution_count": null,
   "id": "d049138d",
   "metadata": {},
   "outputs": [],
   "source": [
    "#### test train split #### ATLA"
   ]
  },
  {
   "cell_type": "code",
   "execution_count": 82,
   "id": "4dabbf43",
   "metadata": {},
   "outputs": [
    {
     "name": "stdout",
     "output_type": "stream",
     "text": [
      "TRAIN size: 42487\n",
      "TEST size: 7498\n"
     ]
    }
   ],
   "source": [
    "import sklearn\n",
    "from sklearn.model_selection import train_test_split\n",
    "df_train, df_test = train_test_split(df, test_size=0.15, random_state=42, shuffle=True)\n",
    "print(\"TRAIN size:\", len(df_train))\n",
    "print(\"TEST size:\", len(df_test))"
   ]
  },
  {
   "cell_type": "code",
   "execution_count": 83,
   "id": "60d5c024",
   "metadata": {},
   "outputs": [
    {
     "data": {
      "text/plain": [
       "(                                                   Tweet  Label\n",
       " 28174                             wrapped red   maverick     17\n",
       " 19672  absolutely beachlakebakery nt wait bring bob t...      0\n",
       " 8197                     dinner fam   gulf shore alabama      0\n",
       " 45564  llegando washington    washington district col...      6\n",
       " 7896   recording single new ep paulrogue drumsdrumsdr...     10,\n",
       " (42487, 2))"
      ]
     },
     "execution_count": 83,
     "metadata": {},
     "output_type": "execute_result"
    }
   ],
   "source": [
    "df_train.head(), df_train.shape"
   ]
  },
  {
   "cell_type": "code",
   "execution_count": 84,
   "id": "4f9ad48d",
   "metadata": {},
   "outputs": [
    {
     "data": {
      "text/plain": [
       "(                                                   Tweet  Label\n",
       " 18114  request lol listingswanted formyfamily grandju...      2\n",
       " 48179      got play kazoo playapops latergram burningman      2\n",
       " 30595         win number   win number good cowboyokstate     15\n",
       " 19824  possibly favorite costume love chanels screamq...      3\n",
       " 20263                                           princess     13,\n",
       " (7498, 2))"
      ]
     },
     "execution_count": 84,
     "metadata": {},
     "output_type": "execute_result"
    }
   ],
   "source": [
    "df_test.head(), df_test.shape"
   ]
  },
  {
   "cell_type": "code",
   "execution_count": 99,
   "id": "a01ab3e6",
   "metadata": {},
   "outputs": [
    {
     "data": {
      "text/html": [
       "<div>\n",
       "<style scoped>\n",
       "    .dataframe tbody tr th:only-of-type {\n",
       "        vertical-align: middle;\n",
       "    }\n",
       "\n",
       "    .dataframe tbody tr th {\n",
       "        vertical-align: top;\n",
       "    }\n",
       "\n",
       "    .dataframe thead th {\n",
       "        text-align: right;\n",
       "    }\n",
       "</style>\n",
       "<table border=\"1\" class=\"dataframe\">\n",
       "  <thead>\n",
       "    <tr style=\"text-align: right;\">\n",
       "      <th></th>\n",
       "      <th>ace</th>\n",
       "      <th>acesnewyork</th>\n",
       "      <th>amp</th>\n",
       "      <th>arena</th>\n",
       "      <th>awhile</th>\n",
       "      <th>ballet</th>\n",
       "      <th>beautiful</th>\n",
       "      <th>belongs</th>\n",
       "      <th>box</th>\n",
       "      <th>brunch</th>\n",
       "      <th>...</th>\n",
       "      <th>sun</th>\n",
       "      <th>super</th>\n",
       "      <th>sweet</th>\n",
       "      <th>tonight</th>\n",
       "      <th>wanda</th>\n",
       "      <th>weekend</th>\n",
       "      <th>wid</th>\n",
       "      <th>wired</th>\n",
       "      <th>wtf</th>\n",
       "      <th>york</th>\n",
       "    </tr>\n",
       "  </thead>\n",
       "  <tbody>\n",
       "    <tr>\n",
       "      <th>0</th>\n",
       "      <td>0</td>\n",
       "      <td>0</td>\n",
       "      <td>1</td>\n",
       "      <td>0</td>\n",
       "      <td>0</td>\n",
       "      <td>0</td>\n",
       "      <td>0</td>\n",
       "      <td>0</td>\n",
       "      <td>0</td>\n",
       "      <td>0</td>\n",
       "      <td>...</td>\n",
       "      <td>0</td>\n",
       "      <td>1</td>\n",
       "      <td>0</td>\n",
       "      <td>0</td>\n",
       "      <td>0</td>\n",
       "      <td>0</td>\n",
       "      <td>0</td>\n",
       "      <td>0</td>\n",
       "      <td>0</td>\n",
       "      <td>0</td>\n",
       "    </tr>\n",
       "    <tr>\n",
       "      <th>1</th>\n",
       "      <td>0</td>\n",
       "      <td>0</td>\n",
       "      <td>0</td>\n",
       "      <td>0</td>\n",
       "      <td>0</td>\n",
       "      <td>0</td>\n",
       "      <td>0</td>\n",
       "      <td>0</td>\n",
       "      <td>0</td>\n",
       "      <td>0</td>\n",
       "      <td>...</td>\n",
       "      <td>1</td>\n",
       "      <td>0</td>\n",
       "      <td>0</td>\n",
       "      <td>0</td>\n",
       "      <td>0</td>\n",
       "      <td>0</td>\n",
       "      <td>0</td>\n",
       "      <td>0</td>\n",
       "      <td>0</td>\n",
       "      <td>0</td>\n",
       "    </tr>\n",
       "    <tr>\n",
       "      <th>2</th>\n",
       "      <td>1</td>\n",
       "      <td>1</td>\n",
       "      <td>0</td>\n",
       "      <td>0</td>\n",
       "      <td>0</td>\n",
       "      <td>0</td>\n",
       "      <td>0</td>\n",
       "      <td>0</td>\n",
       "      <td>0</td>\n",
       "      <td>0</td>\n",
       "      <td>...</td>\n",
       "      <td>0</td>\n",
       "      <td>0</td>\n",
       "      <td>0</td>\n",
       "      <td>1</td>\n",
       "      <td>0</td>\n",
       "      <td>0</td>\n",
       "      <td>0</td>\n",
       "      <td>0</td>\n",
       "      <td>0</td>\n",
       "      <td>1</td>\n",
       "    </tr>\n",
       "    <tr>\n",
       "      <th>3</th>\n",
       "      <td>0</td>\n",
       "      <td>0</td>\n",
       "      <td>0</td>\n",
       "      <td>0</td>\n",
       "      <td>0</td>\n",
       "      <td>0</td>\n",
       "      <td>0</td>\n",
       "      <td>0</td>\n",
       "      <td>0</td>\n",
       "      <td>0</td>\n",
       "      <td>...</td>\n",
       "      <td>0</td>\n",
       "      <td>0</td>\n",
       "      <td>1</td>\n",
       "      <td>0</td>\n",
       "      <td>0</td>\n",
       "      <td>0</td>\n",
       "      <td>1</td>\n",
       "      <td>0</td>\n",
       "      <td>0</td>\n",
       "      <td>0</td>\n",
       "    </tr>\n",
       "    <tr>\n",
       "      <th>4</th>\n",
       "      <td>0</td>\n",
       "      <td>0</td>\n",
       "      <td>0</td>\n",
       "      <td>0</td>\n",
       "      <td>1</td>\n",
       "      <td>0</td>\n",
       "      <td>0</td>\n",
       "      <td>0</td>\n",
       "      <td>0</td>\n",
       "      <td>0</td>\n",
       "      <td>...</td>\n",
       "      <td>0</td>\n",
       "      <td>0</td>\n",
       "      <td>0</td>\n",
       "      <td>0</td>\n",
       "      <td>0</td>\n",
       "      <td>1</td>\n",
       "      <td>0</td>\n",
       "      <td>0</td>\n",
       "      <td>0</td>\n",
       "      <td>0</td>\n",
       "    </tr>\n",
       "    <tr>\n",
       "      <th>5</th>\n",
       "      <td>0</td>\n",
       "      <td>0</td>\n",
       "      <td>0</td>\n",
       "      <td>0</td>\n",
       "      <td>0</td>\n",
       "      <td>0</td>\n",
       "      <td>0</td>\n",
       "      <td>0</td>\n",
       "      <td>1</td>\n",
       "      <td>0</td>\n",
       "      <td>...</td>\n",
       "      <td>0</td>\n",
       "      <td>0</td>\n",
       "      <td>0</td>\n",
       "      <td>0</td>\n",
       "      <td>1</td>\n",
       "      <td>0</td>\n",
       "      <td>0</td>\n",
       "      <td>0</td>\n",
       "      <td>1</td>\n",
       "      <td>0</td>\n",
       "    </tr>\n",
       "    <tr>\n",
       "      <th>6</th>\n",
       "      <td>0</td>\n",
       "      <td>0</td>\n",
       "      <td>0</td>\n",
       "      <td>0</td>\n",
       "      <td>0</td>\n",
       "      <td>0</td>\n",
       "      <td>0</td>\n",
       "      <td>1</td>\n",
       "      <td>1</td>\n",
       "      <td>0</td>\n",
       "      <td>...</td>\n",
       "      <td>0</td>\n",
       "      <td>0</td>\n",
       "      <td>0</td>\n",
       "      <td>0</td>\n",
       "      <td>0</td>\n",
       "      <td>0</td>\n",
       "      <td>0</td>\n",
       "      <td>0</td>\n",
       "      <td>0</td>\n",
       "      <td>0</td>\n",
       "    </tr>\n",
       "    <tr>\n",
       "      <th>7</th>\n",
       "      <td>0</td>\n",
       "      <td>0</td>\n",
       "      <td>0</td>\n",
       "      <td>0</td>\n",
       "      <td>0</td>\n",
       "      <td>0</td>\n",
       "      <td>0</td>\n",
       "      <td>0</td>\n",
       "      <td>0</td>\n",
       "      <td>0</td>\n",
       "      <td>...</td>\n",
       "      <td>0</td>\n",
       "      <td>0</td>\n",
       "      <td>0</td>\n",
       "      <td>0</td>\n",
       "      <td>0</td>\n",
       "      <td>0</td>\n",
       "      <td>0</td>\n",
       "      <td>1</td>\n",
       "      <td>0</td>\n",
       "      <td>0</td>\n",
       "    </tr>\n",
       "    <tr>\n",
       "      <th>8</th>\n",
       "      <td>0</td>\n",
       "      <td>0</td>\n",
       "      <td>0</td>\n",
       "      <td>1</td>\n",
       "      <td>0</td>\n",
       "      <td>0</td>\n",
       "      <td>0</td>\n",
       "      <td>0</td>\n",
       "      <td>0</td>\n",
       "      <td>0</td>\n",
       "      <td>...</td>\n",
       "      <td>0</td>\n",
       "      <td>0</td>\n",
       "      <td>0</td>\n",
       "      <td>0</td>\n",
       "      <td>0</td>\n",
       "      <td>0</td>\n",
       "      <td>0</td>\n",
       "      <td>0</td>\n",
       "      <td>0</td>\n",
       "      <td>0</td>\n",
       "    </tr>\n",
       "    <tr>\n",
       "      <th>9</th>\n",
       "      <td>0</td>\n",
       "      <td>0</td>\n",
       "      <td>0</td>\n",
       "      <td>0</td>\n",
       "      <td>0</td>\n",
       "      <td>1</td>\n",
       "      <td>1</td>\n",
       "      <td>0</td>\n",
       "      <td>0</td>\n",
       "      <td>1</td>\n",
       "      <td>...</td>\n",
       "      <td>0</td>\n",
       "      <td>0</td>\n",
       "      <td>0</td>\n",
       "      <td>0</td>\n",
       "      <td>0</td>\n",
       "      <td>0</td>\n",
       "      <td>0</td>\n",
       "      <td>0</td>\n",
       "      <td>0</td>\n",
       "      <td>0</td>\n",
       "    </tr>\n",
       "  </tbody>\n",
       "</table>\n",
       "<p>10 rows × 66 columns</p>\n",
       "</div>"
      ],
      "text/plain": [
       "   ace  acesnewyork  amp  arena  awhile  ballet  beautiful  belongs  box  \\\n",
       "0    0            0    1      0       0       0          0        0    0   \n",
       "1    0            0    0      0       0       0          0        0    0   \n",
       "2    1            1    0      0       0       0          0        0    0   \n",
       "3    0            0    0      0       0       0          0        0    0   \n",
       "4    0            0    0      0       1       0          0        0    0   \n",
       "5    0            0    0      0       0       0          0        0    1   \n",
       "6    0            0    0      0       0       0          0        1    1   \n",
       "7    0            0    0      0       0       0          0        0    0   \n",
       "8    0            0    0      1       0       0          0        0    0   \n",
       "9    0            0    0      0       0       1          1        0    0   \n",
       "\n",
       "   brunch  ...  sun  super  sweet  tonight  wanda  weekend  wid  wired  wtf  \\\n",
       "0       0  ...    0      1      0        0      0        0    0      0    0   \n",
       "1       0  ...    1      0      0        0      0        0    0      0    0   \n",
       "2       0  ...    0      0      0        1      0        0    0      0    0   \n",
       "3       0  ...    0      0      1        0      0        0    1      0    0   \n",
       "4       0  ...    0      0      0        0      0        1    0      0    0   \n",
       "5       0  ...    0      0      0        0      1        0    0      0    1   \n",
       "6       0  ...    0      0      0        0      0        0    0      0    0   \n",
       "7       0  ...    0      0      0        0      0        0    0      1    0   \n",
       "8       0  ...    0      0      0        0      0        0    0      0    0   \n",
       "9       1  ...    0      0      0        0      0        0    0      0    0   \n",
       "\n",
       "   york  \n",
       "0     0  \n",
       "1     0  \n",
       "2     1  \n",
       "3     0  \n",
       "4     0  \n",
       "5     0  \n",
       "6     0  \n",
       "7     0  \n",
       "8     0  \n",
       "9     0  \n",
       "\n",
       "[10 rows x 66 columns]"
      ]
     },
     "execution_count": 99,
     "metadata": {},
     "output_type": "execute_result"
    }
   ],
   "source": [
    "from sklearn.feature_extraction.text import CountVectorizer\n",
    "\n",
    "df_mini = df.iloc[20:30]\n",
    "\n",
    "c_vect = CountVectorizer()\n",
    "X_mini = c_vect.fit_transform(df_mini.Tweet)\n",
    "\n",
    "x = X_mini.toarray()\n",
    "count_vec = pd.DataFrame(x)\n",
    "count_vec.columns = c_vect.get_feature_names_out()\n",
    "\n",
    "count_vec"
   ]
  },
  {
   "cell_type": "code",
   "execution_count": 86,
   "id": "2c10629e",
   "metadata": {},
   "outputs": [],
   "source": [
    "######################### COUNTER VECT END###########################"
   ]
  },
  {
   "cell_type": "code",
   "execution_count": 87,
   "id": "93dd34c4",
   "metadata": {},
   "outputs": [],
   "source": [
    "######################### SMOTE ###############################"
   ]
  },
  {
   "cell_type": "code",
   "execution_count": 55,
   "id": "6a8a3d73",
   "metadata": {},
   "outputs": [
    {
     "data": {
      "text/plain": [
       "49985"
      ]
     },
     "execution_count": 55,
     "metadata": {},
     "output_type": "execute_result"
    }
   ],
   "source": [
    "X = df[\"Tweet\"].values\n",
    "y = df[\"Label\"].values\n",
    "len(X)\n",
    "len(y)"
   ]
  },
  {
   "cell_type": "code",
   "execution_count": 17,
   "id": "cc68796e",
   "metadata": {},
   "outputs": [
    {
     "name": "stdout",
     "output_type": "stream",
     "text": [
      "<class 'scipy.sparse.csr.csr_matrix'>\n"
     ]
    },
    {
     "data": {
      "text/plain": [
       "1545429"
      ]
     },
     "execution_count": 17,
     "metadata": {},
     "output_type": "execute_result"
    }
   ],
   "source": [
    "from sklearn.feature_extraction.text import CountVectorizer\n",
    "\n",
    "vectorizer = CountVectorizer()\n",
    "X = vectorizer.fit_transform(X)\n",
    "\n",
    "from imblearn.over_sampling import SMOTE\n",
    "os = SMOTE(random_state=42)\n",
    "X,y = os.fit_resample(X, y)\n",
    "\n",
    "\n",
    "print(type(X))\n",
    "X.getnnz()\n"
   ]
  },
  {
   "cell_type": "code",
   "execution_count": 18,
   "id": "dbafb1fe",
   "metadata": {},
   "outputs": [
    {
     "name": "stdout",
     "output_type": "stream",
     "text": [
      "<class 'scipy.sparse.csr.csr_matrix'>\n",
      "<class 'numpy.ndarray'>\n"
     ]
    }
   ],
   "source": [
    "from sklearn.model_selection import train_test_split\n",
    "import numpy as np\n",
    "\n",
    "\n",
    "X_train, X_test ,y_train, y_test = train_test_split(X, y, test_size=0.2, random_state=105)\n",
    "\n",
    "#X_train = np.array(X_train)\n",
    "#X_test = np.array( X_test)\n",
    "#y_train = np.array(y_train)\n",
    "#y_test = np.array( y_test)\n",
    "print(type(X_train))\n",
    "print(type(y_test))"
   ]
  },
  {
   "cell_type": "code",
   "execution_count": null,
   "id": "2393b412",
   "metadata": {},
   "outputs": [],
   "source": [
    "######################### SMOTE END ###############################"
   ]
  },
  {
   "cell_type": "code",
   "execution_count": null,
   "id": "3b9039f3",
   "metadata": {},
   "outputs": [],
   "source": [
    "######################### NORMAL ###############################"
   ]
  },
  {
   "cell_type": "code",
   "execution_count": 146,
   "id": "94ec4ab6",
   "metadata": {},
   "outputs": [
    {
     "data": {
      "text/plain": [
       "49985"
      ]
     },
     "execution_count": 146,
     "metadata": {},
     "output_type": "execute_result"
    }
   ],
   "source": [
    "#X = df[\"Tweet\"].values\n",
    "y = df[\"Label\"].values\n",
    "len(y)"
   ]
  },
  {
   "cell_type": "code",
   "execution_count": 147,
   "id": "4a8629f9",
   "metadata": {},
   "outputs": [],
   "source": [
    "X_train, X_test ,y_train, y_test = train_test_split(X, y, test_size=0.15, random_state=101, stratify = y)"
   ]
  },
  {
   "cell_type": "code",
   "execution_count": null,
   "id": "9f5f1f03",
   "metadata": {},
   "outputs": [],
   "source": [
    "######################### NORMAL END ###############################"
   ]
  },
  {
   "cell_type": "code",
   "execution_count": 180,
   "id": "69cb86e1",
   "metadata": {},
   "outputs": [],
   "source": [
    "######################### RANDOM OVER SAMPLER ###############################"
   ]
  },
  {
   "cell_type": "code",
   "execution_count": 131,
   "id": "5a6afc93",
   "metadata": {},
   "outputs": [],
   "source": [
    "\n",
    "y = df[\"Label\"].values\n",
    "\n",
    "len(y)\n",
    "X_train, X_test ,y_train, y_test = train_test_split(X, y, test_size=0.15, random_state=101, stratify = y)"
   ]
  },
  {
   "cell_type": "code",
   "execution_count": 1,
   "id": "3bb86f5d",
   "metadata": {},
   "outputs": [
    {
     "ename": "NameError",
     "evalue": "name 'X' is not defined",
     "output_type": "error",
     "traceback": [
      "\u001b[0;31m---------------------------------------------------------------------------\u001b[0m",
      "\u001b[0;31mNameError\u001b[0m                                 Traceback (most recent call last)",
      "Cell \u001b[0;32mIn [1], line 2\u001b[0m\n\u001b[1;32m      1\u001b[0m \u001b[38;5;28;01mfrom\u001b[39;00m \u001b[38;5;21;01mimblearn\u001b[39;00m\u001b[38;5;21;01m.\u001b[39;00m\u001b[38;5;21;01mover_sampling\u001b[39;00m \u001b[38;5;28;01mimport\u001b[39;00m RandomOverSampler\n\u001b[0;32m----> 2\u001b[0m X \u001b[38;5;241m=\u001b[39m \u001b[43mX\u001b[49m\u001b[38;5;241m.\u001b[39mreshape(\u001b[38;5;241m-\u001b[39m\u001b[38;5;241m1\u001b[39m,\u001b[38;5;241m1\u001b[39m)\n\u001b[1;32m      3\u001b[0m os \u001b[38;5;241m=\u001b[39m RandomOverSampler()\n\u001b[1;32m      4\u001b[0m X \u001b[38;5;241m=\u001b[39m X\u001b[38;5;241m.\u001b[39mreshape(\u001b[38;5;241m-\u001b[39m\u001b[38;5;241m1\u001b[39m)\n",
      "\u001b[0;31mNameError\u001b[0m: name 'X' is not defined"
     ]
    }
   ],
   "source": [
    "from imblearn.over_sampling import RandomOverSampler\n",
    "#X = X.reshape(-1,1)\n",
    "os = RandomOverSampler()\n",
    "#X = X.reshape(-1)\n",
    "X_train, y_train = os.fit_resample(X_train, y_train)\n"
   ]
  },
  {
   "cell_type": "code",
   "execution_count": null,
   "id": "e6911361",
   "metadata": {},
   "outputs": [],
   "source": [
    "######################### RANDOM OVER SAMPLER END ###############################"
   ]
  },
  {
   "cell_type": "code",
   "execution_count": 149,
   "id": "e0049dd7",
   "metadata": {},
   "outputs": [
    {
     "name": "stderr",
     "output_type": "stream",
     "text": [
      "[nltk_data] Downloading package punkt to /Users/SheN/nltk_data...\n",
      "[nltk_data]   Package punkt is already up-to-date!\n"
     ]
    },
    {
     "name": "stdout",
     "output_type": "stream",
     "text": [
      "Total words 54698\n"
     ]
    }
   ],
   "source": [
    "import nltk\n",
    "from nltk.tokenize import word_tokenize\n",
    "from keras.preprocessing.text import Tokenizer\n",
    "nltk.download(\"punkt\")\n",
    "tokenizer = Tokenizer(num_words=80000)\n",
    "tokenizer.fit_on_texts(df['Tweet'])\n",
    "\n",
    "vocab_size = len(tokenizer.word_index) + 1\n",
    "print(\"Total words\", vocab_size)"
   ]
  },
  {
   "cell_type": "code",
   "execution_count": 182,
   "id": "261e6365",
   "metadata": {},
   "outputs": [],
   "source": [
    "###KNN"
   ]
  },
  {
   "cell_type": "code",
   "execution_count": 150,
   "id": "37f19ffc",
   "metadata": {},
   "outputs": [
    {
     "name": "stdout",
     "output_type": "stream",
     "text": [
      "<class 'scipy.sparse.csr.csr_matrix'>\n",
      "<class 'numpy.ndarray'>\n"
     ]
    }
   ],
   "source": [
    "print(type(X_train))\n",
    "print(type(y_train))"
   ]
  },
  {
   "cell_type": "code",
   "execution_count": 151,
   "id": "f49da619",
   "metadata": {},
   "outputs": [],
   "source": [
    "#modeling KNN classifier with 16 neighbors and 3 fold cross validation"
   ]
  },
  {
   "cell_type": "code",
   "execution_count": 152,
   "id": "da74448e",
   "metadata": {},
   "outputs": [
    {
     "data": {
      "text/plain": [
       "0.1192317951453721"
      ]
     },
     "execution_count": 152,
     "metadata": {},
     "output_type": "execute_result"
    }
   ],
   "source": [
    "from sklearn.neighbors import KNeighborsClassifier\n",
    "from sklearn.model_selection import cross_val_score\n",
    "knn = KNeighborsClassifier(n_neighbors=16)\n",
    "knn.fit(X_train, y_train)\n",
    "knn.score(X_test, y_test)"
   ]
  },
  {
   "cell_type": "code",
   "execution_count": 153,
   "id": "82408a69",
   "metadata": {
    "scrolled": true
   },
   "outputs": [
    {
     "name": "stdout",
     "output_type": "stream",
     "text": [
      "<class 'scipy.sparse.csr.csr_matrix'>\n",
      "<class 'numpy.ndarray'>\n"
     ]
    }
   ],
   "source": [
    "print(type(X_test))\n",
    "print(type(y_test))"
   ]
  },
  {
   "cell_type": "code",
   "execution_count": 154,
   "id": "f7c4d2bc",
   "metadata": {},
   "outputs": [
    {
     "data": {
      "text/plain": [
       "array([0.1796539 , 0.18075423, 0.1856557 , 0.18535561, 0.17045114])"
      ]
     },
     "execution_count": 154,
     "metadata": {},
     "output_type": "execute_result"
    }
   ],
   "source": [
    "knn_cv = cross_val_score(knn, X, y, cv=5)\n",
    "knn_cv.mean()\n",
    "knn_cv"
   ]
  },
  {
   "cell_type": "code",
   "execution_count": 155,
   "id": "698643fe",
   "metadata": {},
   "outputs": [
    {
     "name": "stdout",
     "output_type": "stream",
     "text": [
      "<class 'numpy.ndarray'>\n"
     ]
    },
    {
     "data": {
      "text/plain": [
       "array([ 4, 14,  2, ...,  2,  4,  1])"
      ]
     },
     "execution_count": 155,
     "metadata": {},
     "output_type": "execute_result"
    }
   ],
   "source": [
    "from sklearn.metrics import classification_report, confusion_matrix\n",
    "\n",
    "y_predict = knn.predict(X_test)\n",
    "print(type(y_predict))\n",
    "y_predict\n"
   ]
  },
  {
   "cell_type": "code",
   "execution_count": 156,
   "id": "e4cbd06c",
   "metadata": {},
   "outputs": [
    {
     "name": "stdout",
     "output_type": "stream",
     "text": [
      "              precision    recall  f1-score   support\n",
      "\n",
      "           0       0.33      0.02      0.04      1614\n",
      "           1       0.19      0.05      0.08       792\n",
      "           2       0.16      0.50      0.24       785\n",
      "           3       0.07      0.03      0.04       433\n",
      "           4       0.13      0.16      0.14       377\n",
      "           5       0.09      0.11      0.10       347\n",
      "           6       0.03      0.03      0.03       307\n",
      "           7       0.10      0.05      0.07       284\n",
      "           8       0.12      0.08      0.09       269\n",
      "           9       0.07      0.15      0.09       251\n",
      "          10       0.07      0.04      0.05       232\n",
      "          11       0.19      0.19      0.19       229\n",
      "          12       0.16      0.17      0.17       219\n",
      "          13       0.04      0.09      0.05       202\n",
      "          14       0.08      0.10      0.09       207\n",
      "          15       0.05      0.09      0.06       187\n",
      "          16       0.03      0.05      0.03       196\n",
      "          17       0.46      0.34      0.39       192\n",
      "          18       0.07      0.03      0.04       193\n",
      "          19       0.02      0.02      0.02       182\n",
      "\n",
      "    accuracy                           0.12      7498\n",
      "   macro avg       0.12      0.12      0.10      7498\n",
      "weighted avg       0.16      0.12      0.10      7498\n",
      "\n"
     ]
    }
   ],
   "source": [
    "#y_test = y_test.reshape(-1,1)\n",
    "#y_predict  = y_predict.reshape(-1,1)\n",
    "#predict_x = model.predict(X_test)\n",
    "#classes_x=np.argmax(predict_x,axis=1)\n",
    "print(classification_report(y_test, y_predict))"
   ]
  },
  {
   "cell_type": "code",
   "execution_count": 157,
   "id": "08b3fdec",
   "metadata": {},
   "outputs": [],
   "source": [
    "import itertools\n",
    "import matplotlib.pyplot as plt\n",
    "\n",
    "\n",
    "def plot_confusion_matrix(cm, classes, normalize=True,title='Confusion matrix',cmap=plt.cm.Blues):\n",
    "    if normalize:\n",
    "        cm = cm.astype('float') / cm.sum(axis=1)[:, np.newaxis]\n",
    "        print(\"Normalized confusion matrix\")\n",
    "    else:\n",
    "        print('Confusion matrix, without normalization')\n",
    "    plt.figure(figsize=(10,10))\n",
    "    plt.imshow(cm, interpolation='nearest', cmap=cmap)\n",
    "    plt.title(title)\n",
    "    plt.colorbar()\n",
    "    tick_marks = np.arange(len(classes))\n",
    "    plt.xticks(tick_marks, classes, rotation=45)\n",
    "    plt.yticks(tick_marks, classes)\n",
    "\n",
    "    fmt = '.2f' if normalize else 'd'\n",
    "    thresh = cm.max() / 2.\n",
    "    for i, j in itertools.product(range(cm.shape[0]), range(cm.shape[1])):\n",
    "        plt.text(j, i, format(cm[i, j], fmt),\n",
    "                 horizontalalignment=\"center\",\n",
    "                 color=\"white\" if cm[i, j] > thresh else \"black\")\n",
    "    plt.ylabel('Doğru Etiketler')\n",
    "    plt.xlabel('Tahmini Etiketler')\n",
    "    plt.tight_layout()"
   ]
  },
  {
   "cell_type": "code",
   "execution_count": 158,
   "id": "9df56d85",
   "metadata": {},
   "outputs": [
    {
     "name": "stdout",
     "output_type": "stream",
     "text": [
      "Normalized confusion matrix\n"
     ]
    },
    {
     "data": {
      "image/png": "[encoded data removed]",
      "text/plain": [
       "<Figure size 1000x1000 with 2 Axes>"
      ]
     },
     "metadata": {},
     "output_type": "display_data"
    }
   ],
   "source": [
    "from sklearn.metrics import classification_report, confusion_matrix\n",
    "\n",
    "cm = confusion_matrix(y_test, y_predict)\n",
    "plot_confusion_matrix(cm, [i for i in range(20)] ,title='Doğruluk Matrisi', normalize=True)"
   ]
  },
  {
   "cell_type": "code",
   "execution_count": null,
   "id": "bf9d4834",
   "metadata": {},
   "outputs": [],
   "source": []
  },
  {
   "cell_type": "code",
   "execution_count": null,
   "id": "da520740",
   "metadata": {},
   "outputs": [],
   "source": []
  },
  {
   "cell_type": "code",
   "execution_count": null,
   "id": "73fbba30",
   "metadata": {},
   "outputs": [],
   "source": []
  },
  {
   "cell_type": "code",
   "execution_count": null,
   "id": "e097c0ba",
   "metadata": {},
   "outputs": [],
   "source": []
  }
 ],
 "metadata": {
  "kernelspec": {
   "display_name": "Python 3 (ipykernel)",
   "language": "python",
   "name": "python3"
  },
  "language_info": {
   "codemirror_mode": {
    "name": "ipython",
    "version": 3
   },
   "file_extension": ".py",
   "mimetype": "text/x-python",
   "name": "python",
   "nbconvert_exporter": "python",
   "pygments_lexer": "ipython3",
   "version": "3.9.15"
  }
 },
 "nbformat": 4,
 "nbformat_minor": 5
}
