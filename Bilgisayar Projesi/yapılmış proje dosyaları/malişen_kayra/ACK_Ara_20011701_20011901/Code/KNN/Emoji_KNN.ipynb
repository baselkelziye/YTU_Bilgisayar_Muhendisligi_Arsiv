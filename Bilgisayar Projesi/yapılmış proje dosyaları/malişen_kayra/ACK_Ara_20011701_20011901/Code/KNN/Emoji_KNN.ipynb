{
 "cells": [
  {
   "cell_type": "code",
   "execution_count": 83,
   "id": "84d3d823",
   "metadata": {},
   "outputs": [
    {
     "data": {
      "text/html": [
       "<div>\n",
       "<style scoped>\n",
       "    .dataframe tbody tr th:only-of-type {\n",
       "        vertical-align: middle;\n",
       "    }\n",
       "\n",
       "    .dataframe tbody tr th {\n",
       "        vertical-align: top;\n",
       "    }\n",
       "\n",
       "    .dataframe thead th {\n",
       "        text-align: right;\n",
       "    }\n",
       "</style>\n",
       "<table border=\"1\" class=\"dataframe\">\n",
       "  <thead>\n",
       "    <tr style=\"text-align: right;\">\n",
       "      <th></th>\n",
       "      <th>Tweet</th>\n",
       "      <th>Label</th>\n",
       "    </tr>\n",
       "  </thead>\n",
       "  <tbody>\n",
       "    <tr>\n",
       "      <th>0</th>\n",
       "      <td>a little throwback with my favourite person  w...</td>\n",
       "      <td>0</td>\n",
       "    </tr>\n",
       "    <tr>\n",
       "      <th>1</th>\n",
       "      <td>glam on  yesterday for kcon makeup using  in f...</td>\n",
       "      <td>7</td>\n",
       "    </tr>\n",
       "    <tr>\n",
       "      <th>2</th>\n",
       "      <td>democracy plaza in the wake of a stunning outc...</td>\n",
       "      <td>11</td>\n",
       "    </tr>\n",
       "    <tr>\n",
       "      <th>3</th>\n",
       "      <td>then amp now vilo  walt disney magic kingdom</td>\n",
       "      <td>0</td>\n",
       "    </tr>\n",
       "    <tr>\n",
       "      <th>4</th>\n",
       "      <td>who never  a galaxy far far away</td>\n",
       "      <td>2</td>\n",
       "    </tr>\n",
       "  </tbody>\n",
       "</table>\n",
       "</div>"
      ],
      "text/plain": [
       "                                               Tweet  Label\n",
       "0  a little throwback with my favourite person  w...      0\n",
       "1  glam on  yesterday for kcon makeup using  in f...      7\n",
       "2  democracy plaza in the wake of a stunning outc...     11\n",
       "3       then amp now vilo  walt disney magic kingdom      0\n",
       "4                   who never  a galaxy far far away      2"
      ]
     },
     "execution_count": 83,
     "metadata": {},
     "output_type": "execute_result"
    }
   ],
   "source": [
    "import pandas as pd\n",
    "df1 = pd.read_csv('./data/emoji_cleaned.csv')\n",
    "df1.head()"
   ]
  },
  {
   "cell_type": "code",
   "execution_count": 84,
   "id": "5bacd077",
   "metadata": {},
   "outputs": [
    {
     "data": {
      "text/plain": [
       "False    49999\n",
       "True         1\n",
       "Name: Tweet, dtype: int64"
      ]
     },
     "execution_count": 84,
     "metadata": {},
     "output_type": "execute_result"
    }
   ],
   "source": [
    "df1.isnull().Tweet.value_counts()"
   ]
  },
  {
   "cell_type": "code",
   "execution_count": 85,
   "id": "da70520f",
   "metadata": {},
   "outputs": [],
   "source": [
    "df1 = df1[df1['Tweet'].notna()]"
   ]
  },
  {
   "cell_type": "code",
   "execution_count": 86,
   "id": "11bc6799",
   "metadata": {},
   "outputs": [
    {
     "data": {
      "text/plain": [
       "False    49999\n",
       "Name: Tweet, dtype: int64"
      ]
     },
     "execution_count": 86,
     "metadata": {},
     "output_type": "execute_result"
    }
   ],
   "source": [
    "df1.isnull().Tweet.value_counts()"
   ]
  },
  {
   "cell_type": "code",
   "execution_count": 87,
   "id": "10fc4ec4",
   "metadata": {},
   "outputs": [],
   "source": [
    "import nltk\n",
    "import spacy\n",
    "from nltk.stem import WordNetLemmatizer\n",
    "\n",
    "nlp = spacy.load(\"en_core_web_sm\")\n",
    "lemmatizer = WordNetLemmatizer()\n",
    "\n",
    "def tweet_preprocessing(tweet, nlp=nlp, lemmatizer=lemmatizer):\n",
    "    \n",
    "    stop_words = nlp.Defaults.stop_words     \n",
    "    rm_stop_words_lemma = []\n",
    "    \n",
    "    doc = nlp(tweet)\n",
    "    for token in doc:                                            # tokenization\n",
    "        if token.text not in stop_words and token.pos_!=\"PUNCT\": \n",
    "            lemma_word = lemmatizer.lemmatize(token.text)        # removing stop\n",
    "            rm_stop_words_lemma.append(lemma_word)               # lemmatizing words \n",
    "            \n",
    "    processed = \" \".join(rm_stop_words_lemma)\n",
    "    return processed"
   ]
  },
  {
   "cell_type": "code",
   "execution_count": 88,
   "id": "f9aba9fb",
   "metadata": {},
   "outputs": [],
   "source": [
    "#df1[\"Tweet\"] = df1[\"Tweet\"].apply(tweet_preprocessing)\n",
    "#df1.head(10)"
   ]
  },
  {
   "cell_type": "code",
   "execution_count": 89,
   "id": "5a15b0f7",
   "metadata": {},
   "outputs": [
    {
     "data": {
      "text/plain": [
       "((39999, 2), (10000, 2))"
      ]
     },
     "execution_count": 89,
     "metadata": {},
     "output_type": "execute_result"
    }
   ],
   "source": [
    "from sklearn.model_selection import train_test_split\n",
    "train, test = train_test_split(df1,test_size=0.2,random_state=99, shuffle = True, stratify = df1.Label)\n",
    "train.shape, test.shape\n"
   ]
  },
  {
   "cell_type": "code",
   "execution_count": 90,
   "id": "dbe2eaeb",
   "metadata": {},
   "outputs": [],
   "source": [
    "trainX, trainY = train['Tweet'], train['Label']\n",
    "testX, testY = test['Tweet'], test['Label']"
   ]
  },
  {
   "cell_type": "code",
   "execution_count": 91,
   "id": "5215c529",
   "metadata": {},
   "outputs": [
    {
     "data": {
      "text/plain": [
       "((39999,), (39999,), (10000,), (10000,))"
      ]
     },
     "execution_count": 91,
     "metadata": {},
     "output_type": "execute_result"
    }
   ],
   "source": [
    "trainX.shape, trainY.shape, testX.shape,testX.shape"
   ]
  },
  {
   "cell_type": "code",
   "execution_count": 92,
   "id": "285f6628",
   "metadata": {},
   "outputs": [
    {
     "name": "stdout",
     "output_type": "stream",
     "text": [
      "in training set:\n",
      " 0     0.215180\n",
      "1     0.105578\n",
      "2     0.104828\n",
      "3     0.057701\n",
      "4     0.050326\n",
      "5     0.046351\n",
      "6     0.040976\n",
      "7     0.037876\n",
      "8     0.035926\n",
      "9     0.033426\n",
      "10    0.030876\n",
      "11    0.030551\n",
      "12    0.029251\n",
      "14    0.027551\n",
      "13    0.026926\n",
      "16    0.026126\n",
      "18    0.025726\n",
      "17    0.025576\n",
      "15    0.024976\n",
      "19    0.024276\n",
      "Name: Label, dtype: float64\n",
      "in testing set:\n",
      " 0     0.2152\n",
      "1     0.1056\n",
      "2     0.1048\n",
      "3     0.0577\n",
      "4     0.0504\n",
      "5     0.0463\n",
      "6     0.0410\n",
      "7     0.0379\n",
      "8     0.0359\n",
      "9     0.0334\n",
      "10    0.0309\n",
      "11    0.0306\n",
      "12    0.0292\n",
      "14    0.0275\n",
      "13    0.0269\n",
      "16    0.0261\n",
      "18    0.0257\n",
      "17    0.0256\n",
      "15    0.0250\n",
      "19    0.0243\n",
      "Name: Label, dtype: float64\n"
     ]
    }
   ],
   "source": [
    "print('in training set:\\n',trainY.value_counts(normalize=True))\n",
    "print('in testing set:\\n',testY.value_counts(normalize=True))\n"
   ]
  },
  {
   "cell_type": "code",
   "execution_count": 93,
   "id": "08ddabfb",
   "metadata": {},
   "outputs": [],
   "source": [
    "from sklearn.neighbors import KNeighborsClassifier\n",
    "from sklearn.model_selection import cross_val_score\n",
    "from sklearn.feature_extraction.text import TfidfVectorizer\n",
    "from sklearn.metrics import accuracy_score,classification_report,confusion_matrix,mean_squared_error"
   ]
  },
  {
   "cell_type": "code",
   "execution_count": 94,
   "id": "0245facc",
   "metadata": {},
   "outputs": [],
   "source": [
    "vect = TfidfVectorizer(\n",
    "#                ngram_range = (1,4),\n",
    "                stop_words = 'english',\n",
    "                smooth_idf = 1,\n",
    "                max_features = 1000\n",
    "            )\n",
    "\n",
    "# sparse matrix for NB Classifier\n",
    "train_matrix = vect.fit_transform(trainX)\n",
    "test_matrix = vect.transform(testX)"
   ]
  },
  {
   "cell_type": "code",
   "execution_count": 95,
   "id": "86df0cff",
   "metadata": {},
   "outputs": [],
   "source": [
    "vocab = vect.vocabulary_\n",
    "stopwords = vect.stop_words_\n",
    "#print('The type of vect is: ',type(vocab),'\\n','the size of the corpus is: ',len(vocab),'\\n','the size of the stop words is: ',len(stopwords),'\\n','The stop words include:\\n',stopwords)\n"
   ]
  },
  {
   "cell_type": "code",
   "execution_count": 96,
   "id": "bea35794",
   "metadata": {},
   "outputs": [],
   "source": [
    "##Find best K "
   ]
  },
  {
   "cell_type": "code",
   "execution_count": 97,
   "id": "8d483dd9",
   "metadata": {},
   "outputs": [
    {
     "name": "stdout",
     "output_type": "stream",
     "text": [
      "k = 1 begin \n",
      "Complete time: 7.566381931304932 Secs.\n",
      "k = 2 begin \n",
      "Complete time: 8.487223148345947 Secs.\n",
      "k = 3 begin \n",
      "Complete time: 9.097187995910645 Secs.\n",
      "k = 4 begin \n",
      "Complete time: 9.527091979980469 Secs.\n",
      "k = 5 begin \n",
      "Complete time: 9.748111963272095 Secs.\n",
      "k = 6 begin \n",
      "Complete time: 9.623028039932251 Secs.\n",
      "k = 7 begin \n",
      "Complete time: 9.75593090057373 Secs.\n",
      "k = 8 begin \n",
      "Complete time: 9.722548961639404 Secs.\n",
      "k = 9 begin \n",
      "Complete time: 9.458465099334717 Secs.\n",
      "k = 10 begin \n",
      "Complete time: 9.913420915603638 Secs.\n",
      "k = 11 begin \n",
      "Complete time: 10.227094173431396 Secs.\n",
      "k = 12 begin \n",
      "Complete time: 10.462055921554565 Secs.\n",
      "k = 13 begin \n",
      "Complete time: 9.506531953811646 Secs.\n",
      "k = 14 begin \n",
      "Complete time: 8.980633020401001 Secs.\n",
      "k = 15 begin \n",
      "Complete time: 9.151830911636353 Secs.\n",
      "k = 16 begin \n",
      "Complete time: 8.970248937606812 Secs.\n",
      "k = 17 begin \n",
      "Complete time: 8.976711750030518 Secs.\n",
      "k = 18 begin \n",
      "Complete time: 9.307884693145752 Secs.\n",
      "k = 19 begin \n",
      "Complete time: 9.34975004196167 Secs.\n"
     ]
    }
   ],
   "source": [
    "import time\n",
    "k_range = range(1,20)\n",
    "scores = []\n",
    "\n",
    "# find the best k value in k_range\n",
    "for k in k_range:\n",
    "    print(\"k = \" + str(k) + \" begin \")\n",
    "    start = time.time()\n",
    "    knn = KNeighborsClassifier(n_neighbors=k)\n",
    "    knn.fit(train_matrix,trainY)\n",
    "    test_pred = knn.predict(test_matrix)\n",
    "    acc = (test_pred == testY).value_counts(normalize=True)\n",
    "    accuracy = acc.loc[True]\n",
    "    scores.append(accuracy)\n",
    "    end = time.time()\n",
    "    print(\"Complete time: \" + str(end-start) + \" Secs.\")"
   ]
  },
  {
   "cell_type": "code",
   "execution_count": 98,
   "id": "b05447b7",
   "metadata": {},
   "outputs": [
    {
     "data": {
      "image/png": "[encoded data removed]",
      "text/plain": [
       "<Figure size 800x400 with 1 Axes>"
      ]
     },
     "metadata": {},
     "output_type": "display_data"
    }
   ],
   "source": [
    "import matplotlib.pyplot as plt \n",
    "k_range = range(1,20)\n",
    "plt.figure(figsize=(8,4))\n",
    "plt.plot(k_range,scores)\n",
    "plt.xlabel('k')\n",
    "plt.ylabel('accuracy')\n",
    "plt.show()"
   ]
  },
  {
   "cell_type": "code",
   "execution_count": 99,
   "id": "3298315d",
   "metadata": {},
   "outputs": [],
   "source": [
    "knn = KNeighborsClassifier(n_neighbors=16)"
   ]
  },
  {
   "cell_type": "code",
   "execution_count": 102,
   "id": "296b1734",
   "metadata": {},
   "outputs": [
    {
     "name": "stdout",
     "output_type": "stream",
     "text": [
      "[0.224625   0.22075    0.224875   0.22675    0.22577822]\n"
     ]
    }
   ],
   "source": [
    "from sklearn.model_selection import cross_val_score\n",
    "scores = cross_val_score(knn, train_matrix, trainY, cv=5)\n",
    "print(scores)"
   ]
  },
  {
   "cell_type": "code",
   "execution_count": 103,
   "id": "bf9b5745",
   "metadata": {},
   "outputs": [
    {
     "name": "stdout",
     "output_type": "stream",
     "text": [
      "False    0.697442\n",
      "True     0.302558\n",
      "Name: Label, dtype: float64\n",
      "False    0.7666\n",
      "True     0.2334\n",
      "Name: Label, dtype: float64\n"
     ]
    }
   ],
   "source": [
    "knn = KNeighborsClassifier(n_neighbors=16)\n",
    "knn.fit(train_matrix,trainY)\n",
    "train_pred = knn.predict(train_matrix)\n",
    "test_pred = knn.predict(test_matrix)\n",
    "\n",
    "print((train_pred == trainY).value_counts(normalize=True))\n",
    "print((test_pred == testY).value_counts(normalize=True))"
   ]
  },
  {
   "cell_type": "code",
   "execution_count": 25,
   "id": "4af1c233",
   "metadata": {},
   "outputs": [
    {
     "data": {
      "text/plain": [
       "'\\nfrom sklearn.metrics import classification_report, confusion_matrix, plot_confusion_matrix\\n\\ncm = confusion_matrix(testY, test_pred)\\nplot_confusion_matrix(cm, [i for i in range(20)] , normalize=True,cmap=plt.cm.Greys)\\n\\n'"
      ]
     },
     "execution_count": 25,
     "metadata": {},
     "output_type": "execute_result"
    }
   ],
   "source": [
    "\"\"\"\n",
    "from sklearn.metrics import classification_report, confusion_matrix, plot_confusion_matrix\n",
    "\n",
    "cm = confusion_matrix(testY, test_pred)\n",
    "plot_confusion_matrix(cm, [i for i in range(20)] , normalize=True,cmap=plt.cm.Greys)\n",
    "\n",
    "\"\"\""
   ]
  },
  {
   "cell_type": "code",
   "execution_count": 107,
   "id": "77651ae8",
   "metadata": {},
   "outputs": [
    {
     "data": {
      "text/plain": [
       "Text(283.22222222222223, 0.5, 'Truth')"
      ]
     },
     "execution_count": 107,
     "metadata": {},
     "output_type": "execute_result"
    },
    {
     "data": {
      "image/png": "[encoded data removed]",
      "text/plain": [
       "<Figure size 2500x2000 with 2 Axes>"
      ]
     },
     "metadata": {},
     "output_type": "display_data"
    }
   ],
   "source": [
    "from sklearn.metrics import confusion_matrix\n",
    "cm = confusion_matrix(testY, test_pred)\n",
    "# after creating the confusion matrix, for better understaning plot the cm.\n",
    "import seaborn as sn\n",
    "plt.figure(figsize = (25,20))\n",
    "sn.heatmap(cm, annot=True)\n",
    "plt.xlabel('Predicted')\n",
    "plt.ylabel('Truth')"
   ]
  },
  {
   "cell_type": "code",
   "execution_count": 126,
   "id": "b4661a84",
   "metadata": {},
   "outputs": [],
   "source": [
    "### KNN with Word2Vec && Cross Validation ###\n",
    "########################################"
   ]
  },
  {
   "cell_type": "code",
   "execution_count": 127,
   "id": "ccd2fe48",
   "metadata": {},
   "outputs": [
    {
     "data": {
      "text/html": [
       "<div>\n",
       "<style scoped>\n",
       "    .dataframe tbody tr th:only-of-type {\n",
       "        vertical-align: middle;\n",
       "    }\n",
       "\n",
       "    .dataframe tbody tr th {\n",
       "        vertical-align: top;\n",
       "    }\n",
       "\n",
       "    .dataframe thead th {\n",
       "        text-align: right;\n",
       "    }\n",
       "</style>\n",
       "<table border=\"1\" class=\"dataframe\">\n",
       "  <thead>\n",
       "    <tr style=\"text-align: right;\">\n",
       "      <th></th>\n",
       "      <th>Tweet</th>\n",
       "      <th>Label</th>\n",
       "    </tr>\n",
       "  </thead>\n",
       "  <tbody>\n",
       "    <tr>\n",
       "      <th>0</th>\n",
       "      <td>a little throwback with my favourite person  w...</td>\n",
       "      <td>0</td>\n",
       "    </tr>\n",
       "    <tr>\n",
       "      <th>1</th>\n",
       "      <td>glam on  yesterday for kcon makeup using  in f...</td>\n",
       "      <td>7</td>\n",
       "    </tr>\n",
       "    <tr>\n",
       "      <th>2</th>\n",
       "      <td>democracy plaza in the wake of a stunning outc...</td>\n",
       "      <td>11</td>\n",
       "    </tr>\n",
       "    <tr>\n",
       "      <th>3</th>\n",
       "      <td>then amp now vilo  walt disney magic kingdom</td>\n",
       "      <td>0</td>\n",
       "    </tr>\n",
       "    <tr>\n",
       "      <th>4</th>\n",
       "      <td>who never  a galaxy far far away</td>\n",
       "      <td>2</td>\n",
       "    </tr>\n",
       "  </tbody>\n",
       "</table>\n",
       "</div>"
      ],
      "text/plain": [
       "                                               Tweet  Label\n",
       "0  a little throwback with my favourite person  w...      0\n",
       "1  glam on  yesterday for kcon makeup using  in f...      7\n",
       "2  democracy plaza in the wake of a stunning outc...     11\n",
       "3       then amp now vilo  walt disney magic kingdom      0\n",
       "4                   who never  a galaxy far far away      2"
      ]
     },
     "execution_count": 127,
     "metadata": {},
     "output_type": "execute_result"
    }
   ],
   "source": [
    "import pandas as pd\n",
    "df2 = pd.read_csv('./data/emoji_cleaned.csv')\n",
    "df2.head()"
   ]
  },
  {
   "cell_type": "code",
   "execution_count": 128,
   "id": "419c8c5d",
   "metadata": {},
   "outputs": [
    {
     "data": {
      "text/plain": [
       "False    49999\n",
       "True         1\n",
       "Name: Tweet, dtype: int64"
      ]
     },
     "execution_count": 128,
     "metadata": {},
     "output_type": "execute_result"
    }
   ],
   "source": [
    "df2.isnull().Tweet.value_counts()"
   ]
  },
  {
   "cell_type": "code",
   "execution_count": 129,
   "id": "52ff32f4",
   "metadata": {},
   "outputs": [],
   "source": [
    "df2 = df2[df2['Tweet'].notna()]"
   ]
  },
  {
   "cell_type": "code",
   "execution_count": 130,
   "id": "235aabcb",
   "metadata": {},
   "outputs": [
    {
     "data": {
      "text/plain": [
       "False    49999\n",
       "Name: Tweet, dtype: int64"
      ]
     },
     "execution_count": 130,
     "metadata": {},
     "output_type": "execute_result"
    }
   ],
   "source": [
    "df2.isnull().Tweet.value_counts()"
   ]
  },
  {
   "cell_type": "code",
   "execution_count": 131,
   "id": "46c265c0",
   "metadata": {},
   "outputs": [],
   "source": [
    "import string\n",
    "import re\n",
    "\n",
    "def tweet_clean(tweet):\n",
    "    tweet = str(tweet).lower()\n",
    "    rm_mention = re.sub(r'@[A-Za-z0-9]+', '', tweet)                       # remove @mentions\n",
    "    rm_rt = re.sub(r'RT[/s]+', '', rm_mention)                             # remove RT\n",
    "    rm_links = re.sub(r'http\\S+', '', rm_rt)                               # remove hyperlinks\n",
    "    rm_links = re.sub(r'https?:\\/\\/\\S+','', rm_links)\n",
    "    rm_nums = re.sub('[0-9]+', '', rm_links)                               # remove numbers\n",
    "    rm_punc = [char for char in rm_nums if char not in string.punctuation] # remove punctuations\n",
    "    rm_punc = ''.join(rm_punc)\n",
    "    cleaned = rm_punc\n",
    "    \n",
    "    return cleaned"
   ]
  },
  {
   "cell_type": "code",
   "execution_count": 132,
   "id": "f951ec16",
   "metadata": {},
   "outputs": [
    {
     "name": "stdout",
     "output_type": "stream",
     "text": [
      "Cleaned :  democracy plaza in the wake of a stunning outcome decision  nbc news\n"
     ]
    }
   ],
   "source": [
    "tweet = df2['Tweet'][2]\n",
    "cleaned = tweet_clean(tweet)\n",
    "\n",
    "print(\"Cleaned : \",cleaned)"
   ]
  },
  {
   "cell_type": "code",
   "execution_count": 133,
   "id": "0e89153b",
   "metadata": {},
   "outputs": [
    {
     "data": {
      "text/html": [
       "<div>\n",
       "<style scoped>\n",
       "    .dataframe tbody tr th:only-of-type {\n",
       "        vertical-align: middle;\n",
       "    }\n",
       "\n",
       "    .dataframe tbody tr th {\n",
       "        vertical-align: top;\n",
       "    }\n",
       "\n",
       "    .dataframe thead th {\n",
       "        text-align: right;\n",
       "    }\n",
       "</style>\n",
       "<table border=\"1\" class=\"dataframe\">\n",
       "  <thead>\n",
       "    <tr style=\"text-align: right;\">\n",
       "      <th></th>\n",
       "      <th>Tweet</th>\n",
       "      <th>Label</th>\n",
       "    </tr>\n",
       "  </thead>\n",
       "  <tbody>\n",
       "    <tr>\n",
       "      <th>0</th>\n",
       "      <td>a little throwback with my favourite person  w...</td>\n",
       "      <td>0</td>\n",
       "    </tr>\n",
       "    <tr>\n",
       "      <th>1</th>\n",
       "      <td>glam on  yesterday for kcon makeup using  in f...</td>\n",
       "      <td>7</td>\n",
       "    </tr>\n",
       "    <tr>\n",
       "      <th>2</th>\n",
       "      <td>democracy plaza in the wake of a stunning outc...</td>\n",
       "      <td>11</td>\n",
       "    </tr>\n",
       "    <tr>\n",
       "      <th>3</th>\n",
       "      <td>then amp now vilo  walt disney magic kingdom</td>\n",
       "      <td>0</td>\n",
       "    </tr>\n",
       "    <tr>\n",
       "      <th>4</th>\n",
       "      <td>who never  a galaxy far far away</td>\n",
       "      <td>2</td>\n",
       "    </tr>\n",
       "  </tbody>\n",
       "</table>\n",
       "</div>"
      ],
      "text/plain": [
       "                                               Tweet  Label\n",
       "0  a little throwback with my favourite person  w...      0\n",
       "1  glam on  yesterday for kcon makeup using  in f...      7\n",
       "2  democracy plaza in the wake of a stunning outc...     11\n",
       "3       then amp now vilo  walt disney magic kingdom      0\n",
       "4                   who never  a galaxy far far away      2"
      ]
     },
     "execution_count": 133,
     "metadata": {},
     "output_type": "execute_result"
    }
   ],
   "source": [
    "df2[\"Tweet\"] = df2[\"Tweet\"].apply(tweet_clean)\n",
    "df2.head(5)"
   ]
  },
  {
   "cell_type": "code",
   "execution_count": 134,
   "id": "3c894563",
   "metadata": {},
   "outputs": [],
   "source": [
    "#!pip3 install -U spacy\n",
    "#!pip install keras==2.6.*\n",
    "#!pip3 install -U nltk\n",
    "import nltk\n",
    "import spacy\n",
    "import keras\n",
    "from nltk.stem import WordNetLemmatizer\n",
    "\n",
    "nlp = spacy.load(\"en_core_web_sm\")\n",
    "lemmatizer = WordNetLemmatizer()\n",
    "\n",
    "def tweet_preprocessing(tweet, nlp=nlp, lemmatizer=lemmatizer):\n",
    "    \n",
    "    stop_words = nlp.Defaults.stop_words     \n",
    "    rm_stop_words_lemma = []\n",
    "    \n",
    "    doc = nlp(tweet)\n",
    "    for token in doc:                                            # tokenization\n",
    "        if token.text not in stop_words and token.pos_!=\"PUNCT\": \n",
    "            lemma_word = lemmatizer.lemmatize(token.text)        # removing stop\n",
    "            rm_stop_words_lemma.append(lemma_word)               # lemmatizing words \n",
    "            \n",
    "    processed = \" \".join(rm_stop_words_lemma)\n",
    "    return processed"
   ]
  },
  {
   "cell_type": "code",
   "execution_count": 135,
   "id": "dd4921c7",
   "metadata": {},
   "outputs": [
    {
     "name": "stdout",
     "output_type": "stream",
     "text": [
      "Sample    :  democracy plaza in the wake of a stunning outcome decision  nbc news\n",
      "Processed :  democracy plaza wake stunning outcome decision   nbc news\n"
     ]
    }
   ],
   "source": [
    "tweet = df2['Tweet'][2]\n",
    "cleaned = tweet_clean(tweet)\n",
    "\n",
    "print(\"Sample    : \",cleaned)\n",
    "print(\"Processed : \",tweet_preprocessing(cleaned))"
   ]
  },
  {
   "cell_type": "code",
   "execution_count": 136,
   "id": "255644eb",
   "metadata": {},
   "outputs": [
    {
     "data": {
      "text/html": [
       "<div>\n",
       "<style scoped>\n",
       "    .dataframe tbody tr th:only-of-type {\n",
       "        vertical-align: middle;\n",
       "    }\n",
       "\n",
       "    .dataframe tbody tr th {\n",
       "        vertical-align: top;\n",
       "    }\n",
       "\n",
       "    .dataframe thead th {\n",
       "        text-align: right;\n",
       "    }\n",
       "</style>\n",
       "<table border=\"1\" class=\"dataframe\">\n",
       "  <thead>\n",
       "    <tr style=\"text-align: right;\">\n",
       "      <th></th>\n",
       "      <th>Tweet</th>\n",
       "      <th>Label</th>\n",
       "    </tr>\n",
       "  </thead>\n",
       "  <tbody>\n",
       "    <tr>\n",
       "      <th>0</th>\n",
       "      <td>little throwback favourite person   water wall</td>\n",
       "      <td>0</td>\n",
       "    </tr>\n",
       "    <tr>\n",
       "      <th>1</th>\n",
       "      <td>glam   yesterday kcon makeup   featherette</td>\n",
       "      <td>7</td>\n",
       "    </tr>\n",
       "    <tr>\n",
       "      <th>2</th>\n",
       "      <td>democracy plaza wake stunning outcome decision...</td>\n",
       "      <td>11</td>\n",
       "    </tr>\n",
       "    <tr>\n",
       "      <th>3</th>\n",
       "      <td>amp vilo   walt disney magic kingdom</td>\n",
       "      <td>0</td>\n",
       "    </tr>\n",
       "    <tr>\n",
       "      <th>4</th>\n",
       "      <td>galaxy far far away</td>\n",
       "      <td>2</td>\n",
       "    </tr>\n",
       "    <tr>\n",
       "      <th>5</th>\n",
       "      <td>dinner fla tonight   panseared salmon couscous...</td>\n",
       "      <td>1</td>\n",
       "    </tr>\n",
       "    <tr>\n",
       "      <th>6</th>\n",
       "      <td>fav senior game congrats beating west   west s...</td>\n",
       "      <td>8</td>\n",
       "    </tr>\n",
       "    <tr>\n",
       "      <th>7</th>\n",
       "      <td>got formal best friend   phi mu jsu</td>\n",
       "      <td>0</td>\n",
       "    </tr>\n",
       "    <tr>\n",
       "      <th>8</th>\n",
       "      <td>cause miss little homies throwback cousinlove ...</td>\n",
       "      <td>13</td>\n",
       "    </tr>\n",
       "    <tr>\n",
       "      <th>9</th>\n",
       "      <td>birthday kiss   madison wisconsin</td>\n",
       "      <td>9</td>\n",
       "    </tr>\n",
       "  </tbody>\n",
       "</table>\n",
       "</div>"
      ],
      "text/plain": [
       "                                               Tweet  Label\n",
       "0     little throwback favourite person   water wall      0\n",
       "1         glam   yesterday kcon makeup   featherette      7\n",
       "2  democracy plaza wake stunning outcome decision...     11\n",
       "3               amp vilo   walt disney magic kingdom      0\n",
       "4                                galaxy far far away      2\n",
       "5  dinner fla tonight   panseared salmon couscous...      1\n",
       "6  fav senior game congrats beating west   west s...      8\n",
       "7                got formal best friend   phi mu jsu      0\n",
       "8  cause miss little homies throwback cousinlove ...     13\n",
       "9                  birthday kiss   madison wisconsin      9"
      ]
     },
     "execution_count": 136,
     "metadata": {},
     "output_type": "execute_result"
    }
   ],
   "source": [
    "df2[\"Tweet\"] = df2[\"Tweet\"].apply(tweet_preprocessing)\n",
    "df2.head(10)"
   ]
  },
  {
   "cell_type": "code",
   "execution_count": 146,
   "id": "b92f6945",
   "metadata": {},
   "outputs": [
    {
     "data": {
      "text/plain": [
       "((49999,), (49999,))"
      ]
     },
     "execution_count": 146,
     "metadata": {},
     "output_type": "execute_result"
    }
   ],
   "source": [
    "X=df2['Tweet']\n",
    "Y=df2['Label']\n",
    "X.shape, Y.shape"
   ]
  },
  {
   "cell_type": "code",
   "execution_count": 149,
   "id": "256d0105",
   "metadata": {},
   "outputs": [
    {
     "name": "stderr",
     "output_type": "stream",
     "text": [
      "100%|█████████████████████████████████| 49999/49999 [00:00<00:00, 136836.61it/s]\n"
     ]
    }
   ],
   "source": [
    "\n",
    "from gensim.models import Word2Vec\n",
    "from tqdm import tqdm\n",
    "words_in_sentences=[]\n",
    "for i in tqdm(X):\n",
    "    words_in_sentences.append(i.split())\n"
   ]
  },
  {
   "cell_type": "code",
   "execution_count": 150,
   "id": "a97c5c31",
   "metadata": {},
   "outputs": [
    {
     "name": "stdout",
     "output_type": "stream",
     "text": [
      "Model Training Started...\n",
      "Model Training Completed...\n"
     ]
    }
   ],
   "source": [
    "\n",
    "print(\"Model Training Started...\")\n",
    "model = Word2Vec(sentences=words_in_sentences, vector_size=200,workers=-1)\n",
    "print(\"Model Training Completed...\")\n"
   ]
  },
  {
   "cell_type": "code",
   "execution_count": 169,
   "id": "85233b94",
   "metadata": {},
   "outputs": [
    {
     "data": {
      "text/plain": [
       "(5422230, 6573060)"
      ]
     },
     "execution_count": 169,
     "metadata": {},
     "output_type": "execute_result"
    }
   ],
   "source": [
    "from gensim.models import Word2Vec\n",
    "tokenized_tweet = X.apply(lambda X: X.split()) # tokenizing\n",
    "\n",
    "model_w2v = Word2Vec(\n",
    "            tokenized_tweet,\n",
    "            window=5, # context window size\n",
    "            min_count=2, # Ignores all words with total frequency lower than 2.                                  \n",
    "            sg = 1, # 1 for skip-gram model\n",
    "            hs = 0,\n",
    "            negative = 10, # for negative sampling\n",
    "            workers= 32, # no.of cores\n",
    "            seed = 34\n",
    ") \n",
    "\n",
    "model_w2v.train(tokenized_tweet, total_examples= len(X), epochs=20)"
   ]
  },
  {
   "cell_type": "code",
   "execution_count": 170,
   "id": "0b9b2736",
   "metadata": {},
   "outputs": [
    {
     "data": {
      "text/plain": [
       "49999"
      ]
     },
     "execution_count": 170,
     "metadata": {},
     "output_type": "execute_result"
    }
   ],
   "source": [
    "len(tokenized_tweet)"
   ]
  },
  {
   "cell_type": "code",
   "execution_count": 160,
   "id": "96912309",
   "metadata": {},
   "outputs": [
    {
     "data": {
      "text/plain": [
       "[('lunch', 0.6573513150215149),\n",
       " ('fuddruckers', 0.6063383221626282),\n",
       " ('medieval', 0.5812950730323792),\n",
       " ('kobe', 0.5771948099136353),\n",
       " ('geisha', 0.5762340426445007),\n",
       " ('scottys', 0.573097825050354),\n",
       " ('pappasitos', 0.5705630779266357),\n",
       " ('bentobox', 0.56817626953125),\n",
       " ('trattoria', 0.5676859021186829),\n",
       " ('umi', 0.5654054880142212)]"
      ]
     },
     "execution_count": 160,
     "metadata": {},
     "output_type": "execute_result"
    }
   ],
   "source": [
    "model_w2v.wv.most_similar(positive=\"dinner\")"
   ]
  },
  {
   "cell_type": "code",
   "execution_count": 171,
   "id": "995633b6",
   "metadata": {},
   "outputs": [],
   "source": [
    "def word_vector(tokens, size):\n",
    "    vec = np.zeros(size).reshape((1, size))\n",
    "    count = 0\n",
    "    for word in tokens:\n",
    "        try:\n",
    "            vec += model_w2v.wv[word].reshape((1, size))\n",
    "            count += 1.\n",
    "        except KeyError:  # handling the case where the token is not in vocabulary\n",
    "            continue\n",
    "    if count != 0:\n",
    "        vec /= count\n",
    "    return vec"
   ]
  },
  {
   "cell_type": "code",
   "execution_count": 173,
   "id": "7b865fc8",
   "metadata": {},
   "outputs": [],
   "source": [
    "import numpy as np\n",
    "\n",
    "def average_words_vectors(tokens, wv_model):\n",
    "    vectors = [wv_model[word] for word in tokens \n",
    "               if word in wv_model]  # avoiding KeyError\n",
    "    return np.array(vectors).mean(axis=0)"
   ]
  },
  {
   "cell_type": "code",
   "execution_count": 177,
   "id": "3a0a4086",
   "metadata": {},
   "outputs": [
    {
     "ename": "ValueError",
     "evalue": "could not broadcast input array from shape (100,) into shape (200,)",
     "output_type": "error",
     "traceback": [
      "\u001b[0;31m---------------------------------------------------------------------------\u001b[0m",
      "\u001b[0;31mValueError\u001b[0m                                Traceback (most recent call last)",
      "\u001b[0;32m/var/folders/p6/9vz93_jn0w35pcs_knjyd76r0000gn/T/ipykernel_28253/27543439.py\u001b[0m in \u001b[0;36m<module>\u001b[0;34m\u001b[0m\n\u001b[1;32m      1\u001b[0m \u001b[0mwordvec_arrays\u001b[0m \u001b[0;34m=\u001b[0m \u001b[0mnp\u001b[0m\u001b[0;34m.\u001b[0m\u001b[0mzeros\u001b[0m\u001b[0;34m(\u001b[0m\u001b[0;34m(\u001b[0m\u001b[0mlen\u001b[0m\u001b[0;34m(\u001b[0m\u001b[0mtokenized_tweet\u001b[0m\u001b[0;34m)\u001b[0m\u001b[0;34m,\u001b[0m \u001b[0;36m200\u001b[0m\u001b[0;34m)\u001b[0m\u001b[0;34m)\u001b[0m\u001b[0;34m\u001b[0m\u001b[0;34m\u001b[0m\u001b[0m\n\u001b[1;32m      2\u001b[0m \u001b[0;32mfor\u001b[0m \u001b[0mi\u001b[0m \u001b[0;32min\u001b[0m \u001b[0mrange\u001b[0m\u001b[0;34m(\u001b[0m\u001b[0mlen\u001b[0m\u001b[0;34m(\u001b[0m\u001b[0mtokenized_tweet\u001b[0m\u001b[0;34m)\u001b[0m\u001b[0;34m)\u001b[0m\u001b[0;34m:\u001b[0m\u001b[0;34m\u001b[0m\u001b[0;34m\u001b[0m\u001b[0m\n\u001b[0;32m----> 3\u001b[0;31m     \u001b[0mwordvec_arrays\u001b[0m\u001b[0;34m[\u001b[0m\u001b[0mi\u001b[0m\u001b[0;34m,\u001b[0m\u001b[0;34m:\u001b[0m\u001b[0;34m]\u001b[0m \u001b[0;34m=\u001b[0m \u001b[0maverage_words_vectors\u001b[0m\u001b[0;34m(\u001b[0m\u001b[0mtokenized_tweet\u001b[0m\u001b[0;34m[\u001b[0m\u001b[0mi\u001b[0m\u001b[0;34m]\u001b[0m\u001b[0;34m,\u001b[0m \u001b[0mmodel_w2v\u001b[0m\u001b[0;34m.\u001b[0m\u001b[0mwv\u001b[0m\u001b[0;34m)\u001b[0m\u001b[0;34m\u001b[0m\u001b[0;34m\u001b[0m\u001b[0m\n\u001b[0m\u001b[1;32m      4\u001b[0m \u001b[0mwordvec_df\u001b[0m \u001b[0;34m=\u001b[0m \u001b[0mpd\u001b[0m\u001b[0;34m.\u001b[0m\u001b[0mDataFrame\u001b[0m\u001b[0;34m(\u001b[0m\u001b[0mwordvec_arrays\u001b[0m\u001b[0;34m)\u001b[0m\u001b[0;34m\u001b[0m\u001b[0;34m\u001b[0m\u001b[0m\n\u001b[1;32m      5\u001b[0m \u001b[0mwordvec_df\u001b[0m\u001b[0;34m.\u001b[0m\u001b[0mshape\u001b[0m\u001b[0;34m\u001b[0m\u001b[0;34m\u001b[0m\u001b[0m\n",
      "\u001b[0;31mValueError\u001b[0m: could not broadcast input array from shape (100,) into shape (200,)"
     ]
    }
   ],
   "source": [
    "wordvec_arrays = np.zeros((len(tokenized_tweet), 200)) \n",
    "for i in range(len(tokenized_tweet)):\n",
    "    wordvec_arrays[i,:] = average_words_vectors(tokenized_tweet[i], model_w2v.wv)\n",
    "wordvec_df = pd.DataFrame(wordvec_arrays)\n",
    "wordvec_df.shape"
   ]
  },
  {
   "cell_type": "code",
   "execution_count": null,
   "id": "2852c831",
   "metadata": {},
   "outputs": [],
   "source": [
    "# Import the necessary libraries\n",
    "import pandas as pd\n",
    "from sklearn.model_selection import train_test_split\n",
    "from gensim.models import Word2Vec\n",
    "from sklearn.neighbors import KNeighborsClassifier\n",
    "\n",
    "# Read in your data as a Pandas dataframe\n",
    "df = pd.read_csv('tweet_emoji_data.csv')\n",
    "\n",
    "# Split the data into training and test sets\n",
    "X_train, X_test, y_train, y_test = train_test_split(df['tweet'], df['emoji'], test_size=0.2)\n",
    "\n",
    "# Vectorize the tweets using word2vec\n",
    "w2v_model = Word2Vec(X_train, min_count=1)\n",
    "X_train_vec = [w2v_model.wv[tweet] for tweet in X_train]\n",
    "X_test_vec = [w2v_model.wv[tweet] for tweet in X_test]\n",
    "\n",
    "# Train a KNN model on the training data\n",
    "knn = KNeighborsClassifier(n_neighbors=5)\n",
    "knn.fit(X_train_vec, y_train)\n",
    "\n",
    "# Test the model on the test data\n",
    "accuracy = knn.score(X_test_vec, y_test)\n",
    "\n",
    "# Print the model's accuracy\n",
    "print(f'The model's accuracy is {accuracy:.2f}')\n"
   ]
  },
  {
   "cell_type": "code",
   "execution_count": 162,
   "id": "d7ab3c89",
   "metadata": {},
   "outputs": [],
   "source": [
    "from sklearn.model_selection import train_test_split\n",
    "x_train,x_test,y_train,y_test=train_test_split(X,Y,stratify=Y,test_size=0.20,random_state=101)"
   ]
  },
  {
   "cell_type": "code",
   "execution_count": 163,
   "id": "3f10cf47",
   "metadata": {},
   "outputs": [
    {
     "data": {
      "text/plain": [
       "((39999,), (10000,), (39999,), (10000,))"
      ]
     },
     "execution_count": 163,
     "metadata": {},
     "output_type": "execute_result"
    }
   ],
   "source": [
    "x_train.shape,x_test.shape,y_train.shape,y_test.shape"
   ]
  },
  {
   "cell_type": "code",
   "execution_count": 142,
   "id": "6828dc64",
   "metadata": {},
   "outputs": [],
   "source": [
    "#from gensim.models import Word2Vec\n",
    "#model = Word2Vec(x_train, size=100, window=5, min_count=1, workers=4)"
   ]
  },
  {
   "cell_type": "code",
   "execution_count": 79,
   "id": "60dba385",
   "metadata": {},
   "outputs": [
    {
     "data": {
      "text/plain": [
       "[('navy', 0.2874569594860077),\n",
       " ('aurora', 0.23562674224376678),\n",
       " ('entire', 0.2267521172761917),\n",
       " ('plano', 0.22555238008499146),\n",
       " ('budweiser', 0.21815267205238342),\n",
       " ('supporter', 0.21537961065769196),\n",
       " ('intention', 0.2131328284740448),\n",
       " ('regram', 0.21223405003547668),\n",
       " ('cheesin', 0.20961609482765198),\n",
       " ('aviation', 0.20835918188095093)]"
      ]
     },
     "execution_count": 79,
     "metadata": {},
     "output_type": "execute_result"
    }
   ],
   "source": [
    "#model.wv.most_similar('interesting', topn=10)"
   ]
  },
  {
   "cell_type": "code",
   "execution_count": 80,
   "id": "17e8bd80",
   "metadata": {},
   "outputs": [
    {
     "data": {
      "text/plain": [
       "[('navy', 0.2874569594860077),\n",
       " ('aurora', 0.23562674224376678),\n",
       " ('entire', 0.2267521172761917),\n",
       " ('plano', 0.22555238008499146),\n",
       " ('budweiser', 0.21815267205238342),\n",
       " ('supporter', 0.21537961065769196),\n",
       " ('intention', 0.2131328284740448),\n",
       " ('regram', 0.21223405003547668),\n",
       " ('cheesin', 0.20961609482765198),\n",
       " ('aviation', 0.20835918188095093)]"
      ]
     },
     "execution_count": 80,
     "metadata": {},
     "output_type": "execute_result"
    }
   ],
   "source": [
    "#model.wv.similar_by_word('interesting')"
   ]
  },
  {
   "cell_type": "code",
   "execution_count": null,
   "id": "e588e6ad",
   "metadata": {},
   "outputs": [],
   "source": [
    "from sklearn.neighbors import KNeighborsClassifier\n",
    "knn2 = KNeighborsClassifier(n_neighbors = 16)#no of neighbors is hpyer parameter\n",
    "knn2.fit(x_train, y_train)"
   ]
  },
  {
   "cell_type": "code",
   "execution_count": null,
   "id": "a6a8349e",
   "metadata": {},
   "outputs": [],
   "source": []
  },
  {
   "cell_type": "code",
   "execution_count": null,
   "id": "c7bd94b0",
   "metadata": {},
   "outputs": [],
   "source": []
  }
 ],
 "metadata": {
  "kernelspec": {
   "display_name": "Python 3 (ipykernel)",
   "language": "python",
   "name": "python3"
  },
  "language_info": {
   "codemirror_mode": {
    "name": "ipython",
    "version": 3
   },
   "file_extension": ".py",
   "mimetype": "text/x-python",
   "name": "python",
   "nbconvert_exporter": "python",
   "pygments_lexer": "ipython3",
   "version": "3.9.13"
  }
 },
 "nbformat": 4,
 "nbformat_minor": 5
}
